{
  "nbformat": 4,
  "nbformat_minor": 0,
  "metadata": {
    "colab": {
      "name": "Previsão de Inadimplência de Cartão de Crédito.ipynb",
      "provenance": [],
      "collapsed_sections": [],
      "toc_visible": true,
      "authorship_tag": "ABX9TyPSs+MMTZBXfUKb+461LaeO",
      "include_colab_link": true
    },
    "kernelspec": {
      "name": "python3",
      "display_name": "Python 3"
    },
    "language_info": {
      "name": "python"
    }
  },
  "cells": [
    {
      "cell_type": "markdown",
      "metadata": {
        "id": "view-in-github",
        "colab_type": "text"
      },
      "source": [
        "<a href=\"https://colab.research.google.com/github/marinavillaschi/portfolio_datascience_mpv/blob/main/Previs%C3%A3o_de_Inadimpl%C3%AAncia_de_Cart%C3%A3o_de_Cr%C3%A9dito.ipynb\" target=\"_parent\"><img src=\"https://colab.research.google.com/assets/colab-badge.svg\" alt=\"Open In Colab\"/></a>"
      ]
    },
    {
      "cell_type": "markdown",
      "metadata": {
        "id": "eIe9BnBma4q_"
      },
      "source": [
        "# **Análise de Risco de Crédito**\n",
        "\n",
        "*by [Marina Villaschi](https://www.linkedin.com/in/marinavillaschi)*\n",
        "\n",
        "<center><img width=\"80%\" src=\"http://images.unsplash.com/photo-1607863680198-23d4b2565df0?ixlib=rb-1.2.1&q=80&fm=jpg&crop=entropy&cs=tinysrgb&w=1080&fit=max\"></center>\n",
        "\n",
        "\n",
        "<center>Photo by <a href=\"https://unsplash.com/@andretaissin?utm_source=unsplash&utm_medium=referral&utm_content=creditCopyText\">Andre Taissin</a> on <a href=\"https://unsplash.com/s/photos/coin-bank?utm_source=unsplash&utm_medium=referral&utm_content=creditCopyText\">Unsplash</a><center>\n",
        " \n",
        "\n",
        "\n"
      ]
    },
    {
      "cell_type": "markdown",
      "metadata": {
        "id": "98u1nL9ib3Pc"
      },
      "source": [
        "A inadimplência dos clientes é um problema que as instituições financeiras enfrentam, algo que pode trazer grande prejuízo a elas. Conseguir prever se um cliente irá deixar de cumprir suas obrigações financeiras com a empresa é muito importante já que pode evitar prejuízos à mesma.\n",
        "\n",
        "As instituições financeiras -grandes bancos e fintechs- tem apostado cada vez mais em Inteligencia Artificial e Machine Learning com a finalidade de prever a inadimplência e então minimizar o risco de *default*.\n",
        "\n",
        "> O desafio deste projeto é justamente este: **prever o *default* para reduzi-lo**, evitando prejuízos por inadimplência dos clientes.\n",
        "\n",
        "\n",
        "\n",
        "\n"
      ]
    },
    {
      "cell_type": "code",
      "metadata": {
        "id": "g0di6_xqdE00"
      },
      "source": [
        "# ignorar warnings\n",
        "from warnings import simplefilter\n",
        "simplefilter(action='ignore', category=FutureWarning)\n",
        "\n",
        "# instalando pandas profiling\n",
        "!pip install scikit-plot -q\n",
        "!pip install imbalanced-learn -q\n",
        "\n",
        "# importando bibliotecas e pacotes necessários\n",
        "import numpy as np\n",
        "import pandas as pd\n",
        "import matplotlib.pyplot as plt\n",
        "import seaborn as sns\n",
        "\n",
        "# random seed\n",
        "np.random.seed(1)"
      ],
      "execution_count": null,
      "outputs": []
    },
    {
      "cell_type": "markdown",
      "metadata": {
        "id": "w8pbHkvTb6zu"
      },
      "source": [
        "## Obtenção dos dados\n",
        "\n",
        "Os dados utilizados para desenvolver esse projeto foram obtidos do *Default of Credit Card Clients Dataset* do UCI Machine Learning Repository disponível no [kaggle](https://www.kaggle.com/uciml/default-of-credit-card-clients-dataset) e contém dados de clientes de cartões de crédito do Taiwan no ano de 2005.\n",
        "\n",
        "O dataset possui informações dos pagamentos de inadimplência, dados de crédito, históricos de pagamentos e extratos de contas de **clientes do Taiwan de abril a setembro de 2005**.\n",
        "\n",
        "### Agradecimentos\n",
        "\n",
        "O dataset original encontra-se no [UCI Machine Learning Repository](https://archive.ics.uci.edu/ml/datasets/default+of+credit+card+clients).\n",
        "\n",
        "Lichman, M. (2013). UCI Machine Learning Repository (http://archive.ics.uci.edu/ml) . Irvine, CA: University of California, School of Information and Computer Science.\n",
        "\n"
      ]
    },
    {
      "cell_type": "code",
      "metadata": {
        "id": "yEHaoCF_mauZ"
      },
      "source": [
        "# importando o arquivo csv para um DataFrame\n",
        "df = pd.read_csv('https://raw.githubusercontent.com/marinavillaschi/datafiles/main/UCI_Credit_Card.csv')"
      ],
      "execution_count": null,
      "outputs": []
    },
    {
      "cell_type": "markdown",
      "metadata": {
        "id": "seudW608nEJO"
      },
      "source": [
        "## Análise Exploratória dos Dados\n",
        "Com os dados importados para um DataFrame, vamos dar início à primeira fase de um projeto de Machine Learning: a Análise Exploratória de Dados (*EDA - Exploratory Data Analysis*) onde vamos conhecer os dados a serem trabalhados."
      ]
    },
    {
      "cell_type": "markdown",
      "metadata": {
        "id": "Ea2q79tqPbcX"
      },
      "source": [
        "### Variáveis e entradas\n",
        "\n",
        "\n",
        "Vamos verificar:\n",
        "\n",
        "* o tamanho do dataframe, ou seja, quantas entradas (linhas) e quantas variáveis (colunas) possui"
      ]
    },
    {
      "cell_type": "code",
      "metadata": {
        "colab": {
          "base_uri": "https://localhost:8080/"
        },
        "id": "k91pCuBjQrKx",
        "outputId": "928b16a1-cb97-463a-e447-83319b8a3f21"
      },
      "source": [
        "# verificando o tamanho do dataframe\n",
        "print(\"Entradas:  \", df.shape[0], \"\\nVariáveis: \", df.shape[1])"
      ],
      "execution_count": null,
      "outputs": [
        {
          "output_type": "stream",
          "text": [
            "Entradas:   30000 \n",
            "Variáveis:  25\n"
          ],
          "name": "stdout"
        }
      ]
    },
    {
      "cell_type": "markdown",
      "metadata": {
        "id": "-cD658jgQMq-"
      },
      "source": [
        "* As primeiras entradas do dataframe\n",
        "\n"
      ]
    },
    {
      "cell_type": "code",
      "metadata": {
        "id": "2z-kusxNnD4k",
        "colab": {
          "base_uri": "https://localhost:8080/",
          "height": 224
        },
        "outputId": "33e24867-df37-48f5-9d51-14cf38920b94"
      },
      "source": [
        "# verificando as primeiras entradas do dataframe\n",
        "df.head()"
      ],
      "execution_count": null,
      "outputs": [
        {
          "output_type": "execute_result",
          "data": {
            "text/html": [
              "<div>\n",
              "<style scoped>\n",
              "    .dataframe tbody tr th:only-of-type {\n",
              "        vertical-align: middle;\n",
              "    }\n",
              "\n",
              "    .dataframe tbody tr th {\n",
              "        vertical-align: top;\n",
              "    }\n",
              "\n",
              "    .dataframe thead th {\n",
              "        text-align: right;\n",
              "    }\n",
              "</style>\n",
              "<table border=\"1\" class=\"dataframe\">\n",
              "  <thead>\n",
              "    <tr style=\"text-align: right;\">\n",
              "      <th></th>\n",
              "      <th>ID</th>\n",
              "      <th>LIMIT_BAL</th>\n",
              "      <th>SEX</th>\n",
              "      <th>EDUCATION</th>\n",
              "      <th>MARRIAGE</th>\n",
              "      <th>AGE</th>\n",
              "      <th>PAY_0</th>\n",
              "      <th>PAY_2</th>\n",
              "      <th>PAY_3</th>\n",
              "      <th>PAY_4</th>\n",
              "      <th>PAY_5</th>\n",
              "      <th>PAY_6</th>\n",
              "      <th>BILL_AMT1</th>\n",
              "      <th>BILL_AMT2</th>\n",
              "      <th>BILL_AMT3</th>\n",
              "      <th>BILL_AMT4</th>\n",
              "      <th>BILL_AMT5</th>\n",
              "      <th>BILL_AMT6</th>\n",
              "      <th>PAY_AMT1</th>\n",
              "      <th>PAY_AMT2</th>\n",
              "      <th>PAY_AMT3</th>\n",
              "      <th>PAY_AMT4</th>\n",
              "      <th>PAY_AMT5</th>\n",
              "      <th>PAY_AMT6</th>\n",
              "      <th>default.payment.next.month</th>\n",
              "    </tr>\n",
              "  </thead>\n",
              "  <tbody>\n",
              "    <tr>\n",
              "      <th>0</th>\n",
              "      <td>1</td>\n",
              "      <td>20000.0</td>\n",
              "      <td>2</td>\n",
              "      <td>2</td>\n",
              "      <td>1</td>\n",
              "      <td>24</td>\n",
              "      <td>2</td>\n",
              "      <td>2</td>\n",
              "      <td>-1</td>\n",
              "      <td>-1</td>\n",
              "      <td>-2</td>\n",
              "      <td>-2</td>\n",
              "      <td>3913.0</td>\n",
              "      <td>3102.0</td>\n",
              "      <td>689.0</td>\n",
              "      <td>0.0</td>\n",
              "      <td>0.0</td>\n",
              "      <td>0.0</td>\n",
              "      <td>0.0</td>\n",
              "      <td>689.0</td>\n",
              "      <td>0.0</td>\n",
              "      <td>0.0</td>\n",
              "      <td>0.0</td>\n",
              "      <td>0.0</td>\n",
              "      <td>1</td>\n",
              "    </tr>\n",
              "    <tr>\n",
              "      <th>1</th>\n",
              "      <td>2</td>\n",
              "      <td>120000.0</td>\n",
              "      <td>2</td>\n",
              "      <td>2</td>\n",
              "      <td>2</td>\n",
              "      <td>26</td>\n",
              "      <td>-1</td>\n",
              "      <td>2</td>\n",
              "      <td>0</td>\n",
              "      <td>0</td>\n",
              "      <td>0</td>\n",
              "      <td>2</td>\n",
              "      <td>2682.0</td>\n",
              "      <td>1725.0</td>\n",
              "      <td>2682.0</td>\n",
              "      <td>3272.0</td>\n",
              "      <td>3455.0</td>\n",
              "      <td>3261.0</td>\n",
              "      <td>0.0</td>\n",
              "      <td>1000.0</td>\n",
              "      <td>1000.0</td>\n",
              "      <td>1000.0</td>\n",
              "      <td>0.0</td>\n",
              "      <td>2000.0</td>\n",
              "      <td>1</td>\n",
              "    </tr>\n",
              "    <tr>\n",
              "      <th>2</th>\n",
              "      <td>3</td>\n",
              "      <td>90000.0</td>\n",
              "      <td>2</td>\n",
              "      <td>2</td>\n",
              "      <td>2</td>\n",
              "      <td>34</td>\n",
              "      <td>0</td>\n",
              "      <td>0</td>\n",
              "      <td>0</td>\n",
              "      <td>0</td>\n",
              "      <td>0</td>\n",
              "      <td>0</td>\n",
              "      <td>29239.0</td>\n",
              "      <td>14027.0</td>\n",
              "      <td>13559.0</td>\n",
              "      <td>14331.0</td>\n",
              "      <td>14948.0</td>\n",
              "      <td>15549.0</td>\n",
              "      <td>1518.0</td>\n",
              "      <td>1500.0</td>\n",
              "      <td>1000.0</td>\n",
              "      <td>1000.0</td>\n",
              "      <td>1000.0</td>\n",
              "      <td>5000.0</td>\n",
              "      <td>0</td>\n",
              "    </tr>\n",
              "    <tr>\n",
              "      <th>3</th>\n",
              "      <td>4</td>\n",
              "      <td>50000.0</td>\n",
              "      <td>2</td>\n",
              "      <td>2</td>\n",
              "      <td>1</td>\n",
              "      <td>37</td>\n",
              "      <td>0</td>\n",
              "      <td>0</td>\n",
              "      <td>0</td>\n",
              "      <td>0</td>\n",
              "      <td>0</td>\n",
              "      <td>0</td>\n",
              "      <td>46990.0</td>\n",
              "      <td>48233.0</td>\n",
              "      <td>49291.0</td>\n",
              "      <td>28314.0</td>\n",
              "      <td>28959.0</td>\n",
              "      <td>29547.0</td>\n",
              "      <td>2000.0</td>\n",
              "      <td>2019.0</td>\n",
              "      <td>1200.0</td>\n",
              "      <td>1100.0</td>\n",
              "      <td>1069.0</td>\n",
              "      <td>1000.0</td>\n",
              "      <td>0</td>\n",
              "    </tr>\n",
              "    <tr>\n",
              "      <th>4</th>\n",
              "      <td>5</td>\n",
              "      <td>50000.0</td>\n",
              "      <td>1</td>\n",
              "      <td>2</td>\n",
              "      <td>1</td>\n",
              "      <td>57</td>\n",
              "      <td>-1</td>\n",
              "      <td>0</td>\n",
              "      <td>-1</td>\n",
              "      <td>0</td>\n",
              "      <td>0</td>\n",
              "      <td>0</td>\n",
              "      <td>8617.0</td>\n",
              "      <td>5670.0</td>\n",
              "      <td>35835.0</td>\n",
              "      <td>20940.0</td>\n",
              "      <td>19146.0</td>\n",
              "      <td>19131.0</td>\n",
              "      <td>2000.0</td>\n",
              "      <td>36681.0</td>\n",
              "      <td>10000.0</td>\n",
              "      <td>9000.0</td>\n",
              "      <td>689.0</td>\n",
              "      <td>679.0</td>\n",
              "      <td>0</td>\n",
              "    </tr>\n",
              "  </tbody>\n",
              "</table>\n",
              "</div>"
            ],
            "text/plain": [
              "   ID  LIMIT_BAL  SEX  ...  PAY_AMT5  PAY_AMT6  default.payment.next.month\n",
              "0   1    20000.0    2  ...       0.0       0.0                           1\n",
              "1   2   120000.0    2  ...       0.0    2000.0                           1\n",
              "2   3    90000.0    2  ...    1000.0    5000.0                           0\n",
              "3   4    50000.0    2  ...    1069.0    1000.0                           0\n",
              "4   5    50000.0    1  ...     689.0     679.0                           0\n",
              "\n",
              "[5 rows x 25 columns]"
            ]
          },
          "metadata": {
            "tags": []
          },
          "execution_count": 62
        }
      ]
    },
    {
      "cell_type": "markdown",
      "metadata": {
        "id": "6Hi8tb8qRLr5"
      },
      "source": [
        "* os nomes das variáveis (colunas) e seus tipos"
      ]
    },
    {
      "cell_type": "code",
      "metadata": {
        "colab": {
          "base_uri": "https://localhost:8080/"
        },
        "id": "IgQbRtyLRWb9",
        "outputId": "88a003c8-c949-4930-dfb4-21994273edd9"
      },
      "source": [
        "# verificando as colunas e tipos\n",
        "print(\"Tipos de variáveis:\\n\")\n",
        "print(df.dtypes)"
      ],
      "execution_count": null,
      "outputs": [
        {
          "output_type": "stream",
          "text": [
            "Tipos de variáveis:\n",
            "\n",
            "ID                              int64\n",
            "LIMIT_BAL                     float64\n",
            "SEX                             int64\n",
            "EDUCATION                       int64\n",
            "MARRIAGE                        int64\n",
            "AGE                             int64\n",
            "PAY_0                           int64\n",
            "PAY_2                           int64\n",
            "PAY_3                           int64\n",
            "PAY_4                           int64\n",
            "PAY_5                           int64\n",
            "PAY_6                           int64\n",
            "BILL_AMT1                     float64\n",
            "BILL_AMT2                     float64\n",
            "BILL_AMT3                     float64\n",
            "BILL_AMT4                     float64\n",
            "BILL_AMT5                     float64\n",
            "BILL_AMT6                     float64\n",
            "PAY_AMT1                      float64\n",
            "PAY_AMT2                      float64\n",
            "PAY_AMT3                      float64\n",
            "PAY_AMT4                      float64\n",
            "PAY_AMT5                      float64\n",
            "PAY_AMT6                      float64\n",
            "default.payment.next.month      int64\n",
            "dtype: object\n"
          ],
          "name": "stdout"
        }
      ]
    },
    {
      "cell_type": "markdown",
      "metadata": {
        "id": "SVQKv6MSR163"
      },
      "source": [
        "* a descrição das variáveis\n",
        "\n",
        "  * `ID`: ID do cliente\n",
        "  * `LIMIT_BAL`: valor do crédito concedido, na moeda local (novo dólar taiwanês), inclui crédito individual e familiar/suplementar\n",
        "  * `SEX`: gênero do cliente (1=masculino, 2=feminino)\n",
        "  * `EDUCATION`: grau de escolaridade (1=pós graduação, 2=ensino superior, 3=ensino médio, 4=outro, 5=desconhecido, 6=desconhecido)\n",
        "  * `MARRIAGE`: estado civil (1=casado, 2=solteiro, 3=outro)\n",
        "  * `AGE`: idade (anos)\n",
        "  * `PAY_0`: status do pagamento da conta de setembro de 2005 (-1= paga em dia, 1= atraso de pagamento por um mês, 2= atraso de pagamento por dois meses, … 8= atraso de pagamento por oito meses, 9= atraso de pagamento por nove meses ou mais)\n",
        "  * `PAY_2`: status do pagamento da conta de agosto de 2005 (mesma escala acima)\n",
        "  * `PAY_3`: status do pagamento da conta de julho de 2005 (mesma escala acima)\n",
        "  * `PAY_4`: status do pagamento da conta de junho de 2005 (mesma escala acima)\n",
        "  * `PAY_5`: status do pagamento da conta de maio de 2005 (mesma escala acima)\n",
        "  * `PAY_6`: status do pagamento da conta de abril de 2005 (mesma escala acima)\n",
        "  * `BILL_AMT1`: valor da conta de setembro de 2005, na moeda local (novo dólar taiwanês)\n",
        "  * `BILL_AMT2`: valor da conta de agosto de 2005, na moeda local (novo dólar taiwanês)\n",
        "  * `BILL_AMT3`: valor da conta de julho de 2005, na moeda local (novo dólar taiwanês)\n",
        "  * `BILL_AMT4`: valor da conta de junho de 2005, na moeda local (novo dólar taiwanês)\n",
        "  * `BILL_AMT5`: valor da conta de maio de 2005, na moeda local (novo dólar taiwanês)\n",
        "  * `BILL_AMT6`: valor da conta de abril de 2005, na moeda local (novo dólar taiwanês)\n",
        "  * `PAY_AMT1`: valor do pagamento anterior em setembro de 2005, na moeda local (novo dólar taiwanês)\n",
        "  * `PAY_AMT2`: valor do pagamento anterior em agosto de 2005, na moeda local (novo dólar taiwanês)\n",
        "  * `PAY_AMT3`: valor do pagamento anterior em julho de 2005, na moeda local (novo dólar taiwanês)\n",
        "  * `PAY_AMT4`: valor do pagamento anterior em junho de 2005, na moeda local (novo dólar taiwanês)\n",
        "  * `PAY_AMT5`: valor do pagamento anterior em maio de 2005, na moeda local (novo dólar taiwanês)\n",
        "  * `PAY_AMT6`: valor do pagamento anterior em abril de 2005, na moeda local (novo dólar taiwanês)\n",
        "  * `default.payment.next.month`: pagamento do *default* (1=sim, 0=não)"
      ]
    },
    {
      "cell_type": "markdown",
      "metadata": {
        "id": "WPoUwTqlhoam"
      },
      "source": [
        "Aqui já é possível fazer algumas observações iniciais:\n",
        "* a coluna `ID` é praticamente um índice e podemos **eliminá-la** pois não tem informação relevante para esta análise\n",
        "\n",
        "* as colunas `EDUCATION` e `MARRIAGE` são variáveis categóricas múltiplas, então vamos **codificá-las**.\n",
        "\n",
        "* o mesmo se aplica para as colunas `PAY_0` a `PAY_6` e também vamos **codificá-las**\n",
        "\n",
        "* as variáveis `BILL_AMT1` a `BILL_AMT6` e `PAY_AMT1` a `PAY_AMT6` são do tipo *float* e por ora não precisamos modificar nada nelas.\n",
        "\n",
        "* A coluna `default.payment.next.month` é nossa **variável alvo**.\n",
        "\n"
      ]
    },
    {
      "cell_type": "markdown",
      "metadata": {
        "id": "GZmie73F4bkC"
      },
      "source": [
        "Vamos verificar o resumo estatístico das variáveis numéricas."
      ]
    },
    {
      "cell_type": "code",
      "metadata": {
        "colab": {
          "base_uri": "https://localhost:8080/",
          "height": 317
        },
        "id": "cQVjmIni0IFS",
        "outputId": "69718f35-c370-49ca-fc3f-33aa8e0c6148"
      },
      "source": [
        "# verificando o resumo estatístico das variáveis numéricas\n",
        "df.describe()"
      ],
      "execution_count": null,
      "outputs": [
        {
          "output_type": "execute_result",
          "data": {
            "text/html": [
              "<div>\n",
              "<style scoped>\n",
              "    .dataframe tbody tr th:only-of-type {\n",
              "        vertical-align: middle;\n",
              "    }\n",
              "\n",
              "    .dataframe tbody tr th {\n",
              "        vertical-align: top;\n",
              "    }\n",
              "\n",
              "    .dataframe thead th {\n",
              "        text-align: right;\n",
              "    }\n",
              "</style>\n",
              "<table border=\"1\" class=\"dataframe\">\n",
              "  <thead>\n",
              "    <tr style=\"text-align: right;\">\n",
              "      <th></th>\n",
              "      <th>ID</th>\n",
              "      <th>LIMIT_BAL</th>\n",
              "      <th>SEX</th>\n",
              "      <th>EDUCATION</th>\n",
              "      <th>MARRIAGE</th>\n",
              "      <th>AGE</th>\n",
              "      <th>PAY_0</th>\n",
              "      <th>PAY_2</th>\n",
              "      <th>PAY_3</th>\n",
              "      <th>PAY_4</th>\n",
              "      <th>PAY_5</th>\n",
              "      <th>PAY_6</th>\n",
              "      <th>BILL_AMT1</th>\n",
              "      <th>BILL_AMT2</th>\n",
              "      <th>BILL_AMT3</th>\n",
              "      <th>BILL_AMT4</th>\n",
              "      <th>BILL_AMT5</th>\n",
              "      <th>BILL_AMT6</th>\n",
              "      <th>PAY_AMT1</th>\n",
              "      <th>PAY_AMT2</th>\n",
              "      <th>PAY_AMT3</th>\n",
              "      <th>PAY_AMT4</th>\n",
              "      <th>PAY_AMT5</th>\n",
              "      <th>PAY_AMT6</th>\n",
              "      <th>default.payment.next.month</th>\n",
              "    </tr>\n",
              "  </thead>\n",
              "  <tbody>\n",
              "    <tr>\n",
              "      <th>count</th>\n",
              "      <td>30000.000000</td>\n",
              "      <td>30000.000000</td>\n",
              "      <td>30000.000000</td>\n",
              "      <td>30000.000000</td>\n",
              "      <td>30000.000000</td>\n",
              "      <td>30000.000000</td>\n",
              "      <td>30000.000000</td>\n",
              "      <td>30000.000000</td>\n",
              "      <td>30000.000000</td>\n",
              "      <td>30000.000000</td>\n",
              "      <td>30000.000000</td>\n",
              "      <td>30000.000000</td>\n",
              "      <td>30000.000000</td>\n",
              "      <td>30000.000000</td>\n",
              "      <td>3.000000e+04</td>\n",
              "      <td>30000.000000</td>\n",
              "      <td>30000.000000</td>\n",
              "      <td>30000.000000</td>\n",
              "      <td>30000.000000</td>\n",
              "      <td>3.000000e+04</td>\n",
              "      <td>30000.00000</td>\n",
              "      <td>30000.000000</td>\n",
              "      <td>30000.000000</td>\n",
              "      <td>30000.000000</td>\n",
              "      <td>30000.000000</td>\n",
              "    </tr>\n",
              "    <tr>\n",
              "      <th>mean</th>\n",
              "      <td>15000.500000</td>\n",
              "      <td>167484.322667</td>\n",
              "      <td>1.603733</td>\n",
              "      <td>1.853133</td>\n",
              "      <td>1.551867</td>\n",
              "      <td>35.485500</td>\n",
              "      <td>-0.016700</td>\n",
              "      <td>-0.133767</td>\n",
              "      <td>-0.166200</td>\n",
              "      <td>-0.220667</td>\n",
              "      <td>-0.266200</td>\n",
              "      <td>-0.291100</td>\n",
              "      <td>51223.330900</td>\n",
              "      <td>49179.075167</td>\n",
              "      <td>4.701315e+04</td>\n",
              "      <td>43262.948967</td>\n",
              "      <td>40311.400967</td>\n",
              "      <td>38871.760400</td>\n",
              "      <td>5663.580500</td>\n",
              "      <td>5.921163e+03</td>\n",
              "      <td>5225.68150</td>\n",
              "      <td>4826.076867</td>\n",
              "      <td>4799.387633</td>\n",
              "      <td>5215.502567</td>\n",
              "      <td>0.221200</td>\n",
              "    </tr>\n",
              "    <tr>\n",
              "      <th>std</th>\n",
              "      <td>8660.398374</td>\n",
              "      <td>129747.661567</td>\n",
              "      <td>0.489129</td>\n",
              "      <td>0.790349</td>\n",
              "      <td>0.521970</td>\n",
              "      <td>9.217904</td>\n",
              "      <td>1.123802</td>\n",
              "      <td>1.197186</td>\n",
              "      <td>1.196868</td>\n",
              "      <td>1.169139</td>\n",
              "      <td>1.133187</td>\n",
              "      <td>1.149988</td>\n",
              "      <td>73635.860576</td>\n",
              "      <td>71173.768783</td>\n",
              "      <td>6.934939e+04</td>\n",
              "      <td>64332.856134</td>\n",
              "      <td>60797.155770</td>\n",
              "      <td>59554.107537</td>\n",
              "      <td>16563.280354</td>\n",
              "      <td>2.304087e+04</td>\n",
              "      <td>17606.96147</td>\n",
              "      <td>15666.159744</td>\n",
              "      <td>15278.305679</td>\n",
              "      <td>17777.465775</td>\n",
              "      <td>0.415062</td>\n",
              "    </tr>\n",
              "    <tr>\n",
              "      <th>min</th>\n",
              "      <td>1.000000</td>\n",
              "      <td>10000.000000</td>\n",
              "      <td>1.000000</td>\n",
              "      <td>0.000000</td>\n",
              "      <td>0.000000</td>\n",
              "      <td>21.000000</td>\n",
              "      <td>-2.000000</td>\n",
              "      <td>-2.000000</td>\n",
              "      <td>-2.000000</td>\n",
              "      <td>-2.000000</td>\n",
              "      <td>-2.000000</td>\n",
              "      <td>-2.000000</td>\n",
              "      <td>-165580.000000</td>\n",
              "      <td>-69777.000000</td>\n",
              "      <td>-1.572640e+05</td>\n",
              "      <td>-170000.000000</td>\n",
              "      <td>-81334.000000</td>\n",
              "      <td>-339603.000000</td>\n",
              "      <td>0.000000</td>\n",
              "      <td>0.000000e+00</td>\n",
              "      <td>0.00000</td>\n",
              "      <td>0.000000</td>\n",
              "      <td>0.000000</td>\n",
              "      <td>0.000000</td>\n",
              "      <td>0.000000</td>\n",
              "    </tr>\n",
              "    <tr>\n",
              "      <th>25%</th>\n",
              "      <td>7500.750000</td>\n",
              "      <td>50000.000000</td>\n",
              "      <td>1.000000</td>\n",
              "      <td>1.000000</td>\n",
              "      <td>1.000000</td>\n",
              "      <td>28.000000</td>\n",
              "      <td>-1.000000</td>\n",
              "      <td>-1.000000</td>\n",
              "      <td>-1.000000</td>\n",
              "      <td>-1.000000</td>\n",
              "      <td>-1.000000</td>\n",
              "      <td>-1.000000</td>\n",
              "      <td>3558.750000</td>\n",
              "      <td>2984.750000</td>\n",
              "      <td>2.666250e+03</td>\n",
              "      <td>2326.750000</td>\n",
              "      <td>1763.000000</td>\n",
              "      <td>1256.000000</td>\n",
              "      <td>1000.000000</td>\n",
              "      <td>8.330000e+02</td>\n",
              "      <td>390.00000</td>\n",
              "      <td>296.000000</td>\n",
              "      <td>252.500000</td>\n",
              "      <td>117.750000</td>\n",
              "      <td>0.000000</td>\n",
              "    </tr>\n",
              "    <tr>\n",
              "      <th>50%</th>\n",
              "      <td>15000.500000</td>\n",
              "      <td>140000.000000</td>\n",
              "      <td>2.000000</td>\n",
              "      <td>2.000000</td>\n",
              "      <td>2.000000</td>\n",
              "      <td>34.000000</td>\n",
              "      <td>0.000000</td>\n",
              "      <td>0.000000</td>\n",
              "      <td>0.000000</td>\n",
              "      <td>0.000000</td>\n",
              "      <td>0.000000</td>\n",
              "      <td>0.000000</td>\n",
              "      <td>22381.500000</td>\n",
              "      <td>21200.000000</td>\n",
              "      <td>2.008850e+04</td>\n",
              "      <td>19052.000000</td>\n",
              "      <td>18104.500000</td>\n",
              "      <td>17071.000000</td>\n",
              "      <td>2100.000000</td>\n",
              "      <td>2.009000e+03</td>\n",
              "      <td>1800.00000</td>\n",
              "      <td>1500.000000</td>\n",
              "      <td>1500.000000</td>\n",
              "      <td>1500.000000</td>\n",
              "      <td>0.000000</td>\n",
              "    </tr>\n",
              "    <tr>\n",
              "      <th>75%</th>\n",
              "      <td>22500.250000</td>\n",
              "      <td>240000.000000</td>\n",
              "      <td>2.000000</td>\n",
              "      <td>2.000000</td>\n",
              "      <td>2.000000</td>\n",
              "      <td>41.000000</td>\n",
              "      <td>0.000000</td>\n",
              "      <td>0.000000</td>\n",
              "      <td>0.000000</td>\n",
              "      <td>0.000000</td>\n",
              "      <td>0.000000</td>\n",
              "      <td>0.000000</td>\n",
              "      <td>67091.000000</td>\n",
              "      <td>64006.250000</td>\n",
              "      <td>6.016475e+04</td>\n",
              "      <td>54506.000000</td>\n",
              "      <td>50190.500000</td>\n",
              "      <td>49198.250000</td>\n",
              "      <td>5006.000000</td>\n",
              "      <td>5.000000e+03</td>\n",
              "      <td>4505.00000</td>\n",
              "      <td>4013.250000</td>\n",
              "      <td>4031.500000</td>\n",
              "      <td>4000.000000</td>\n",
              "      <td>0.000000</td>\n",
              "    </tr>\n",
              "    <tr>\n",
              "      <th>max</th>\n",
              "      <td>30000.000000</td>\n",
              "      <td>1000000.000000</td>\n",
              "      <td>2.000000</td>\n",
              "      <td>6.000000</td>\n",
              "      <td>3.000000</td>\n",
              "      <td>79.000000</td>\n",
              "      <td>8.000000</td>\n",
              "      <td>8.000000</td>\n",
              "      <td>8.000000</td>\n",
              "      <td>8.000000</td>\n",
              "      <td>8.000000</td>\n",
              "      <td>8.000000</td>\n",
              "      <td>964511.000000</td>\n",
              "      <td>983931.000000</td>\n",
              "      <td>1.664089e+06</td>\n",
              "      <td>891586.000000</td>\n",
              "      <td>927171.000000</td>\n",
              "      <td>961664.000000</td>\n",
              "      <td>873552.000000</td>\n",
              "      <td>1.684259e+06</td>\n",
              "      <td>896040.00000</td>\n",
              "      <td>621000.000000</td>\n",
              "      <td>426529.000000</td>\n",
              "      <td>528666.000000</td>\n",
              "      <td>1.000000</td>\n",
              "    </tr>\n",
              "  </tbody>\n",
              "</table>\n",
              "</div>"
            ],
            "text/plain": [
              "                 ID       LIMIT_BAL  ...       PAY_AMT6  default.payment.next.month\n",
              "count  30000.000000    30000.000000  ...   30000.000000                30000.000000\n",
              "mean   15000.500000   167484.322667  ...    5215.502567                    0.221200\n",
              "std     8660.398374   129747.661567  ...   17777.465775                    0.415062\n",
              "min        1.000000    10000.000000  ...       0.000000                    0.000000\n",
              "25%     7500.750000    50000.000000  ...     117.750000                    0.000000\n",
              "50%    15000.500000   140000.000000  ...    1500.000000                    0.000000\n",
              "75%    22500.250000   240000.000000  ...    4000.000000                    0.000000\n",
              "max    30000.000000  1000000.000000  ...  528666.000000                    1.000000\n",
              "\n",
              "[8 rows x 25 columns]"
            ]
          },
          "metadata": {
            "tags": []
          },
          "execution_count": 64
        }
      ]
    },
    {
      "cell_type": "markdown",
      "metadata": {
        "id": "2VDP--L14aIl"
      },
      "source": [
        "Pelo resumo estatístico já conseguimos observar algo estranho nas variáveis `EDUCATION` e `MARRIAGE` que apresentam `min=0` quando em suas descrições o 0 não era uma opção de entrada.\n",
        "\n",
        "Outro ponto que chama a atenção é em relação às variáveis `PAY_0` a `PAY_6` que apresentam `min=-2` e mediana=0, sendo que nenhum desses dois valores foram citados como opção de entrada em suas descrições.\n",
        "\n",
        "A princípio não identificamos *outliers*, vamos verificar plotando alguns boxplots."
      ]
    },
    {
      "cell_type": "code",
      "metadata": {
        "colab": {
          "base_uri": "https://localhost:8080/",
          "height": 1000
        },
        "id": "TBewEslmoFSy",
        "outputId": "ce6eaac8-76e5-4c63-a917-f2975ef9a40a"
      },
      "source": [
        "# plotando os boxplots\n",
        "fig, (ax1, ax2, ax3) = plt.subplots(nrows=1, ncols=3, figsize=(15,15))\n",
        "sns.boxplot(data=df.LIMIT_BAL, ax=ax1, orient=\"v\")\n",
        "sns.boxplot(data=df.BILL_AMT1, ax=ax2, orient=\"v\")\n",
        "sns.boxplot(data=df.PAY_AMT1, ax=ax3, orient=\"v\")\n",
        "plt.tight_layout()"
      ],
      "execution_count": null,
      "outputs": [
        {
          "output_type": "display_data",
          "data": {
            "image/png": "[encoded data removed]",
            "text/plain": [
              "<Figure size 1080x1080 with 3 Axes>"
            ]
          },
          "metadata": {
            "tags": [],
            "needs_background": "light"
          }
        }
      ]
    },
    {
      "cell_type": "markdown",
      "metadata": {
        "id": "BsK5fUsjjWRt"
      },
      "source": [
        "### Valores Ausentes\n",
        "\n",
        "Vamos verificar a proporção de dados ausentes em cada coluna, ou seja, dados faltantes.\n",
        "\n",
        "Quanto mais dados ausentes um dataset possui, mais ele perde em qualidade. Existem maneiras de tratar essa falta de dados, mas jamais será o equivalente a tê-los."
      ]
    },
    {
      "cell_type": "code",
      "metadata": {
        "colab": {
          "base_uri": "https://localhost:8080/"
        },
        "id": "kay8vcGGj-tK",
        "outputId": "db514d0a-45d9-4952-feac-51914e910f12"
      },
      "source": [
        "# verificando a proporção dos dados ausentes em cada coluna\n",
        "print(\"Proporção de valores ausentes:\\n\")\n",
        "print((df.isnull().sum()/df.shape[0]).sort_values())"
      ],
      "execution_count": null,
      "outputs": [
        {
          "output_type": "stream",
          "text": [
            "Proporção de valores ausentes:\n",
            "\n",
            "ID                            0.0\n",
            "PAY_AMT5                      0.0\n",
            "PAY_AMT4                      0.0\n",
            "PAY_AMT3                      0.0\n",
            "PAY_AMT2                      0.0\n",
            "PAY_AMT1                      0.0\n",
            "BILL_AMT6                     0.0\n",
            "BILL_AMT5                     0.0\n",
            "BILL_AMT4                     0.0\n",
            "BILL_AMT3                     0.0\n",
            "BILL_AMT2                     0.0\n",
            "PAY_AMT6                      0.0\n",
            "BILL_AMT1                     0.0\n",
            "PAY_5                         0.0\n",
            "PAY_4                         0.0\n",
            "PAY_3                         0.0\n",
            "PAY_2                         0.0\n",
            "PAY_0                         0.0\n",
            "AGE                           0.0\n",
            "MARRIAGE                      0.0\n",
            "EDUCATION                     0.0\n",
            "SEX                           0.0\n",
            "LIMIT_BAL                     0.0\n",
            "PAY_6                         0.0\n",
            "default.payment.next.month    0.0\n",
            "dtype: float64\n"
          ],
          "name": "stdout"
        }
      ]
    },
    {
      "cell_type": "markdown",
      "metadata": {
        "id": "ANKgyvlelzXT"
      },
      "source": [
        "O dataset aparentemente não apresenta valor ausente em nenhuma coluna. Isso indicaria ótima qualidade, porém é necessário investigarmos mais afundo pois essa pode não ser a realidade.\n",
        "\n",
        "Vamos investigar os valores únicos de cada variável para verificar se estão de acordo com a descrição das mesmas."
      ]
    },
    {
      "cell_type": "code",
      "metadata": {
        "colab": {
          "base_uri": "https://localhost:8080/"
        },
        "id": "___lkGMKRyAX",
        "outputId": "37ef1706-0f1c-42ad-ae3b-0efbdfc2387d"
      },
      "source": [
        "print(\"Valores únicos:\\n\")\n",
        "print(df.nunique())"
      ],
      "execution_count": null,
      "outputs": [
        {
          "output_type": "stream",
          "text": [
            "Valores únicos:\n",
            "\n",
            "ID                            30000\n",
            "LIMIT_BAL                        81\n",
            "SEX                               2\n",
            "EDUCATION                         7\n",
            "MARRIAGE                          4\n",
            "AGE                              56\n",
            "PAY_0                            11\n",
            "PAY_2                            11\n",
            "PAY_3                            11\n",
            "PAY_4                            11\n",
            "PAY_5                            10\n",
            "PAY_6                            10\n",
            "BILL_AMT1                     22723\n",
            "BILL_AMT2                     22346\n",
            "BILL_AMT3                     22026\n",
            "BILL_AMT4                     21548\n",
            "BILL_AMT5                     21010\n",
            "BILL_AMT6                     20604\n",
            "PAY_AMT1                       7943\n",
            "PAY_AMT2                       7899\n",
            "PAY_AMT3                       7518\n",
            "PAY_AMT4                       6937\n",
            "PAY_AMT5                       6897\n",
            "PAY_AMT6                       6939\n",
            "default.payment.next.month        2\n",
            "dtype: int64\n"
          ],
          "name": "stdout"
        }
      ]
    },
    {
      "cell_type": "markdown",
      "metadata": {
        "id": "7W9FJ3HTnWkk"
      },
      "source": [
        "Algumas variáveis categóricas parecem suspeitas, vamos entender o porquê:\n",
        "\n",
        "* `EDUCATION` possui 7 valores únicos, porém em sua descrição vimos que ela deveria apresentar valores de 1 a 6.\n",
        "\n",
        "* `MARRIAGE` possui 4 valores únicos e sua descrição indica apenas 3.\n",
        "\n",
        "* `PAY_0` a `PAY_4` apresentam 11 valores únicos, sendo apenas 10 em sua descrição.\n",
        "\n",
        "Vamos então visualizar quais os valores únicos de cada uma dessas colunas, assim como a quantidade de cada um deles.\n"
      ]
    },
    {
      "cell_type": "code",
      "metadata": {
        "colab": {
          "base_uri": "https://localhost:8080/"
        },
        "id": "lo2z0H45obMQ",
        "outputId": "3abec23d-4451-45a4-b75f-21f812f88566"
      },
      "source": [
        "# verificando os valores únicos das variáveis EDUCATION e MARRIAGE\n",
        "print(\"Valores únicos de EDUCATION:\\n\")\n",
        "print(df.EDUCATION.value_counts())\n",
        "print(\"\\n\\nValores únicos de MARRIAGE:\\n\")\n",
        "print(df.MARRIAGE.value_counts())"
      ],
      "execution_count": null,
      "outputs": [
        {
          "output_type": "stream",
          "text": [
            "Valores únicos de EDUCATION:\n",
            "\n",
            "2    14030\n",
            "1    10585\n",
            "3     4917\n",
            "5      280\n",
            "4      123\n",
            "6       51\n",
            "0       14\n",
            "Name: EDUCATION, dtype: int64\n",
            "\n",
            "\n",
            "Valores únicos de MARRIAGE:\n",
            "\n",
            "2    15964\n",
            "1    13659\n",
            "3      323\n",
            "0       54\n",
            "Name: MARRIAGE, dtype: int64\n"
          ],
          "name": "stdout"
        }
      ]
    },
    {
      "cell_type": "markdown",
      "metadata": {
        "id": "kcjQLxl93UZt"
      },
      "source": [
        "A variável `EDUCATION` apresenta 14 entradas de valor `0`. Neste caso vamos substituir essas entradas por `4` que representa \"outro\". Faremos isso também para as entradas `5` e `6` que representam \"desconhecido\". Todas essas entradas são redundantes e serão agrupadas em `4` representando \"outro\".\n",
        "\n",
        "A variável `MARRIAGE` apresenta 54 entradas de valor `0`. Vamos substituir essas entradas por `3` que representa \"outro\", agrupando-as.\n"
      ]
    },
    {
      "cell_type": "code",
      "metadata": {
        "colab": {
          "base_uri": "https://localhost:8080/"
        },
        "id": "l_XAlKGF3THT",
        "outputId": "110c261a-c585-43b4-8326-7578c4e6e8cd"
      },
      "source": [
        "# verificando os valores únicos das variáveis PAY_0 a PAY_6\n",
        "print(\"\\n\\nValores únicos de PAY_0:\\n\")\n",
        "print(df.PAY_0.value_counts())\n",
        "print(\"\\n\\nValores únicos de PAY_2:\\n\")\n",
        "print(df.PAY_2.value_counts())\n",
        "print(\"\\n\\nValores únicos de PAY_3:\\n\")\n",
        "print(df.PAY_3.value_counts())\n",
        "print(\"\\n\\nValores únicos de PAY_4:\\n\")\n",
        "print(df.PAY_4.value_counts())\n",
        "print(\"\\n\\nValores únicos de PAY_5:\\n\")\n",
        "print(df.PAY_5.value_counts())\n",
        "print(\"\\n\\nValores únicos de PAY_6:\\n\")\n",
        "print(df.PAY_6.value_counts())"
      ],
      "execution_count": null,
      "outputs": [
        {
          "output_type": "stream",
          "text": [
            "\n",
            "\n",
            "Valores únicos de PAY_0:\n",
            "\n",
            " 0    14737\n",
            "-1     5686\n",
            " 1     3688\n",
            "-2     2759\n",
            " 2     2667\n",
            " 3      322\n",
            " 4       76\n",
            " 5       26\n",
            " 8       19\n",
            " 6       11\n",
            " 7        9\n",
            "Name: PAY_0, dtype: int64\n",
            "\n",
            "\n",
            "Valores únicos de PAY_2:\n",
            "\n",
            " 0    15730\n",
            "-1     6050\n",
            " 2     3927\n",
            "-2     3782\n",
            " 3      326\n",
            " 4       99\n",
            " 1       28\n",
            " 5       25\n",
            " 7       20\n",
            " 6       12\n",
            " 8        1\n",
            "Name: PAY_2, dtype: int64\n",
            "\n",
            "\n",
            "Valores únicos de PAY_3:\n",
            "\n",
            " 0    15764\n",
            "-1     5938\n",
            "-2     4085\n",
            " 2     3819\n",
            " 3      240\n",
            " 4       76\n",
            " 7       27\n",
            " 6       23\n",
            " 5       21\n",
            " 1        4\n",
            " 8        3\n",
            "Name: PAY_3, dtype: int64\n",
            "\n",
            "\n",
            "Valores únicos de PAY_4:\n",
            "\n",
            " 0    16455\n",
            "-1     5687\n",
            "-2     4348\n",
            " 2     3159\n",
            " 3      180\n",
            " 4       69\n",
            " 7       58\n",
            " 5       35\n",
            " 6        5\n",
            " 8        2\n",
            " 1        2\n",
            "Name: PAY_4, dtype: int64\n",
            "\n",
            "\n",
            "Valores únicos de PAY_5:\n",
            "\n",
            " 0    16947\n",
            "-1     5539\n",
            "-2     4546\n",
            " 2     2626\n",
            " 3      178\n",
            " 4       84\n",
            " 7       58\n",
            " 5       17\n",
            " 6        4\n",
            " 8        1\n",
            "Name: PAY_5, dtype: int64\n",
            "\n",
            "\n",
            "Valores únicos de PAY_6:\n",
            "\n",
            " 0    16286\n",
            "-1     5740\n",
            "-2     4895\n",
            " 2     2766\n",
            " 3      184\n",
            " 4       49\n",
            " 7       46\n",
            " 6       19\n",
            " 5       13\n",
            " 8        2\n",
            "Name: PAY_6, dtype: int64\n"
          ],
          "name": "stdout"
        }
      ]
    },
    {
      "cell_type": "markdown",
      "metadata": {
        "id": "2IxdBLGOrMGe"
      },
      "source": [
        "As variáveis `PAY_0` a `PAY_6` apresentam grande volume de entradas com valor `0` e outro volume considerável de valores `-2`.\n",
        "\n",
        "Vamos trabalhar com a hipótese de que ambos esses valores (`0` e `-2`) representam que a conta foi devidamente paga sem atrasos, ou seja, podem ser substituídas por `-1`, sendo assim agrupadas à categoria de conta paga em dia."
      ]
    },
    {
      "cell_type": "markdown",
      "metadata": {
        "id": "N7vLbnUuzSVk"
      },
      "source": [
        "### Distribuição da variável alvo\n",
        "\n",
        "Vamos plotar um gráfico de barras para avaliar o balanceamento da variável `default.payment.next.month` que é nossa variável alvo, ou seja, aquela que queremos prever.\n"
      ]
    },
    {
      "cell_type": "code",
      "metadata": {
        "colab": {
          "base_uri": "https://localhost:8080/",
          "height": 433
        },
        "id": "XhPrFS4XMHwF",
        "outputId": "441ad399-9ec7-4d59-ccd0-be7d6cf02845"
      },
      "source": [
        "# verificando o balanceamento da variável default.payment.next.month \n",
        "print(df['default.payment.next.month'].value_counts())\n",
        "print('\\n')\n",
        "print('Inadimplência =', round(((df.loc[df['default.payment.next.month'] == 1].shape[0])/(df.loc[df['default.payment.next.month'] == 0].shape[0])*100),2),'%')\n",
        "print('\\n')\n",
        "\n",
        "# imprimindo countplot\n",
        "fig, ax = plt.subplots()\n",
        "sns.countplot(x=df['default.payment.next.month'], ax=ax)\n",
        "ax.set_title('Distribuição de inadimplência')\n",
        "ax.set_xlabel('default')\n",
        "plt.tight_layout()"
      ],
      "execution_count": null,
      "outputs": [
        {
          "output_type": "stream",
          "text": [
            "0    23364\n",
            "1     6636\n",
            "Name: default.payment.next.month, dtype: int64\n",
            "\n",
            "\n",
            "Inadimplência = 28.4 %\n",
            "\n",
            "\n"
          ],
          "name": "stdout"
        },
        {
          "output_type": "display_data",
          "data": {
            "image/png": "[encoded data removed]",
            "text/plain": [
              "<Figure size 432x288 with 1 Axes>"
            ]
          },
          "metadata": {
            "tags": [],
            "needs_background": "light"
          }
        }
      ]
    },
    {
      "cell_type": "markdown",
      "metadata": {
        "id": "gilFv8ewSBtG"
      },
      "source": [
        "O dataset apresenta **desbalanceamento leve** da variável alvo.\n",
        "\n",
        "De forma geral, os modelos conseguem melhor desempenho em datasets balanceados, no entanto, iremos treinar primeiramente com a distribuição verdadeira dos dados. Caso seja necessário, ou seja, caso o modelo não generalize e não apresente bom desempenho, faremos o balanceamento."
      ]
    },
    {
      "cell_type": "markdown",
      "metadata": {
        "id": "BGojyzcaTXK7"
      },
      "source": [
        "### Correlação entre variáveis\n",
        "\n",
        "Vamos explorar a correlação entre as variáveis numéricas.\n",
        "\n",
        "Através do coeficiente de correlação criamos uma matriz de correlação e geramos um *heatmap* para melhor visualização."
      ]
    },
    {
      "cell_type": "code",
      "metadata": {
        "colab": {
          "base_uri": "https://localhost:8080/",
          "height": 1000
        },
        "id": "TdcZKKSwVBZG",
        "outputId": "900c79af-1d88-4da5-c75e-54ba9c60dfa2"
      },
      "source": [
        "# criando matriz de correlação\n",
        "corr = df.corr()\n",
        "mask = np.triu(np.ones_like(corr, dtype=bool))\n",
        "plt.figure(figsize=(15,15))\n",
        "sns.heatmap(corr, mask=mask, fmt='.0%', annot=True)\n",
        "plt.tight_layout()"
      ],
      "execution_count": null,
      "outputs": [
        {
          "output_type": "display_data",
          "data": {
            "image/png": "[encoded data removed]",
            "text/plain": [
              "<Figure size 1080x1080 with 2 Axes>"
            ]
          },
          "metadata": {
            "tags": [],
            "needs_background": "light"
          }
        }
      ]
    },
    {
      "cell_type": "markdown",
      "metadata": {
        "id": "NklBSuR-Vl28"
      },
      "source": [
        "Antes de realizarmos qualquer limpeza, balanceamento ou padronização é possível observar que a variável alvo não tem correlação alta com nenhuma das variáveis. Isso certamente irá mudar após realizarmos a preparação dos dados.\n",
        "\n",
        "De toda forma, é interessante já pontuarmos:\n",
        "* as variáveis `PAY_0` a `PAY_6` apresentam certa correlação positiva com a variável alvo, assim como entre si, o que faz sentido já que o status dos pagamentos das contas (em dia ou atrasada em x meses) tem influência na chance de inadimplência do mês seguinte.\n",
        "* a variável `LIMIT_BAL` apresenta correlação positiva com as variáveis `BILL_AMT1` a `BILL_AMT6` o que era esperado.\n",
        "* as variáveis `BILL_AMT1` a `BILL_AMT6` também tem correlação positiva entre si e faz sentido pois os valores das contas dos clientes tende a permanecer num padrão.\n"
      ]
    },
    {
      "cell_type": "markdown",
      "metadata": {
        "id": "REasi5iYTbt6"
      },
      "source": [
        "## Preparação dos dados\n",
        "\n",
        "* **Limpar** os dados agrupando entradas das variáveis identificadas anteriormente;\n",
        "\n",
        "* **Selecionar** as variáveis que são interessantes e eliminar as que não serão úteis ou são menos relevantes ao modelo;\n",
        "\n",
        "* **Codificar** variáveis categóricas (binárias e múltiplas) em numéricas discretas;\n",
        "\n",
        "> * **Dividir** o dataset em treino e teste;\n",
        "> \n",
        "> * **Padronizar** o dataset."
      ]
    },
    {
      "cell_type": "markdown",
      "metadata": {
        "id": "JDvzdrn099G2"
      },
      "source": [
        "### Limpeza dos dados\n",
        "\n",
        "Faremos as substituições necessárias nas entradas das variáveis categóricas `EDUCATION`, `MARRIAGE` e `PAY_0` a `PAY_6` agrupando valores conforme explicado anteriomente."
      ]
    },
    {
      "cell_type": "code",
      "metadata": {
        "colab": {
          "base_uri": "https://localhost:8080/"
        },
        "id": "OISvLg2L-yJ7",
        "outputId": "4c96e72e-ad03-4c2b-f4a2-c086d68395c6"
      },
      "source": [
        "# criando uma cópia de df para realização da limpeza\n",
        "df_clean = df.copy()\n",
        "\n",
        "# substituindo valores 0, 5 e 6 da variável EDUCATION por 4\n",
        "df_clean.loc[df_clean.EDUCATION == 0, 'EDUCATION'] = 4\n",
        "df_clean.loc[df_clean.EDUCATION == 5, 'EDUCATION'] = 4\n",
        "df_clean.loc[df_clean.EDUCATION == 6, 'EDUCATION'] = 4\n",
        "\n",
        "# substituindo valores 0 da variável MARRIAGE por 3\n",
        "df_clean.loc[df_clean.MARRIAGE == 0, 'MARRIAGE'] = 3\n",
        "\n",
        "# substituindo valores 0 e -2 das variáveis PAY_0 a PAY_6 por -1\n",
        "df_clean.loc[df_clean.PAY_0 <= 0, 'PAY_0'] = -1\n",
        "df_clean.loc[df_clean.PAY_2 <= 0, 'PAY_2'] = -1\n",
        "df_clean.loc[df_clean.PAY_3 <= 0, 'PAY_3'] = -1\n",
        "df_clean.loc[df_clean.PAY_4 <= 0, 'PAY_4'] = -1\n",
        "df_clean.loc[df_clean.PAY_5 <= 0, 'PAY_5'] = -1\n",
        "df_clean.loc[df_clean.PAY_6 <= 0, 'PAY_6'] = -1\n",
        "\n",
        "# verificando os novos valores únicos das variáveis após limpeza\n",
        "print(\"Valores únicos de EDUCATION após limpeza:\\n\")\n",
        "print(df_clean.EDUCATION.value_counts())\n",
        "print(\"\\n\\nValores únicos de MARRIAGE após limpeza:\\n\")\n",
        "print(df_clean.MARRIAGE.value_counts())\n",
        "print(\"\\n\\nValores únicos de PAY_0 após limpeza:\\n\")\n",
        "print(df_clean.PAY_0.value_counts())\n",
        "print(\"\\n\\nValores únicos de PAY_2 após limpeza:\\n\")\n",
        "print(df_clean.PAY_2.value_counts())\n",
        "print(\"\\n\\nValores únicos de PAY_3 após limpeza:\\n\")\n",
        "print(df_clean.PAY_3.value_counts())\n",
        "print(\"\\n\\nValores únicos de PAY_4 após limpeza:\\n\")\n",
        "print(df_clean.PAY_4.value_counts())\n",
        "print(\"\\n\\nValores únicos de PAY_5 após limpeza:\\n\")\n",
        "print(df_clean.PAY_5.value_counts())\n",
        "print(\"\\n\\nValores únicos de PAY_6 após limpeza:\\n\")\n",
        "print(df_clean.PAY_6.value_counts())"
      ],
      "execution_count": null,
      "outputs": [
        {
          "output_type": "stream",
          "text": [
            "Valores únicos de EDUCATION após limpeza:\n",
            "\n",
            "2    14030\n",
            "1    10585\n",
            "3     4917\n",
            "4      468\n",
            "Name: EDUCATION, dtype: int64\n",
            "\n",
            "\n",
            "Valores únicos de MARRIAGE após limpeza:\n",
            "\n",
            "2    15964\n",
            "1    13659\n",
            "3      377\n",
            "Name: MARRIAGE, dtype: int64\n",
            "\n",
            "\n",
            "Valores únicos de PAY_0 após limpeza:\n",
            "\n",
            "-1    23182\n",
            " 1     3688\n",
            " 2     2667\n",
            " 3      322\n",
            " 4       76\n",
            " 5       26\n",
            " 8       19\n",
            " 6       11\n",
            " 7        9\n",
            "Name: PAY_0, dtype: int64\n",
            "\n",
            "\n",
            "Valores únicos de PAY_2 após limpeza:\n",
            "\n",
            "-1    25562\n",
            " 2     3927\n",
            " 3      326\n",
            " 4       99\n",
            " 1       28\n",
            " 5       25\n",
            " 7       20\n",
            " 6       12\n",
            " 8        1\n",
            "Name: PAY_2, dtype: int64\n",
            "\n",
            "\n",
            "Valores únicos de PAY_3 após limpeza:\n",
            "\n",
            "-1    25787\n",
            " 2     3819\n",
            " 3      240\n",
            " 4       76\n",
            " 7       27\n",
            " 6       23\n",
            " 5       21\n",
            " 1        4\n",
            " 8        3\n",
            "Name: PAY_3, dtype: int64\n",
            "\n",
            "\n",
            "Valores únicos de PAY_4 após limpeza:\n",
            "\n",
            "-1    26490\n",
            " 2     3159\n",
            " 3      180\n",
            " 4       69\n",
            " 7       58\n",
            " 5       35\n",
            " 6        5\n",
            " 8        2\n",
            " 1        2\n",
            "Name: PAY_4, dtype: int64\n",
            "\n",
            "\n",
            "Valores únicos de PAY_5 após limpeza:\n",
            "\n",
            "-1    27032\n",
            " 2     2626\n",
            " 3      178\n",
            " 4       84\n",
            " 7       58\n",
            " 5       17\n",
            " 6        4\n",
            " 8        1\n",
            "Name: PAY_5, dtype: int64\n",
            "\n",
            "\n",
            "Valores únicos de PAY_6 após limpeza:\n",
            "\n",
            "-1    26921\n",
            " 2     2766\n",
            " 3      184\n",
            " 4       49\n",
            " 7       46\n",
            " 6       19\n",
            " 5       13\n",
            " 8        2\n",
            "Name: PAY_6, dtype: int64\n"
          ],
          "name": "stdout"
        }
      ]
    },
    {
      "cell_type": "markdown",
      "metadata": {
        "id": "ya8AKjsvs_5k"
      },
      "source": [
        "### Seleção de variáveis\n",
        "\n",
        "Iremos desconsiderar a variável `ID`, conforme identificamos anteriormente ela não é relevante para a construção do nosso modelo."
      ]
    },
    {
      "cell_type": "code",
      "metadata": {
        "colab": {
          "base_uri": "https://localhost:8080/"
        },
        "id": "fZAxVoJatii5",
        "outputId": "84b8d87c-1d30-4277-d7df-a98e939a6662"
      },
      "source": [
        "# deletando a coluna ID\n",
        "df_clean.drop('ID', axis=1, inplace=True)\n",
        "\n",
        "# verificando as colunas remanescentes\n",
        "print(\"Colunas após limpeza:\\n\")\n",
        "print(df_clean.info())"
      ],
      "execution_count": null,
      "outputs": [
        {
          "output_type": "stream",
          "text": [
            "Colunas após limpeza:\n",
            "\n",
            "<class 'pandas.core.frame.DataFrame'>\n",
            "RangeIndex: 30000 entries, 0 to 29999\n",
            "Data columns (total 24 columns):\n",
            " #   Column                      Non-Null Count  Dtype  \n",
            "---  ------                      --------------  -----  \n",
            " 0   LIMIT_BAL                   30000 non-null  float64\n",
            " 1   SEX                         30000 non-null  int64  \n",
            " 2   EDUCATION                   30000 non-null  int64  \n",
            " 3   MARRIAGE                    30000 non-null  int64  \n",
            " 4   AGE                         30000 non-null  int64  \n",
            " 5   PAY_0                       30000 non-null  int64  \n",
            " 6   PAY_2                       30000 non-null  int64  \n",
            " 7   PAY_3                       30000 non-null  int64  \n",
            " 8   PAY_4                       30000 non-null  int64  \n",
            " 9   PAY_5                       30000 non-null  int64  \n",
            " 10  PAY_6                       30000 non-null  int64  \n",
            " 11  BILL_AMT1                   30000 non-null  float64\n",
            " 12  BILL_AMT2                   30000 non-null  float64\n",
            " 13  BILL_AMT3                   30000 non-null  float64\n",
            " 14  BILL_AMT4                   30000 non-null  float64\n",
            " 15  BILL_AMT5                   30000 non-null  float64\n",
            " 16  BILL_AMT6                   30000 non-null  float64\n",
            " 17  PAY_AMT1                    30000 non-null  float64\n",
            " 18  PAY_AMT2                    30000 non-null  float64\n",
            " 19  PAY_AMT3                    30000 non-null  float64\n",
            " 20  PAY_AMT4                    30000 non-null  float64\n",
            " 21  PAY_AMT5                    30000 non-null  float64\n",
            " 22  PAY_AMT6                    30000 non-null  float64\n",
            " 23  default.payment.next.month  30000 non-null  int64  \n",
            "dtypes: float64(13), int64(11)\n",
            "memory usage: 5.5 MB\n",
            "None\n"
          ],
          "name": "stdout"
        }
      ]
    },
    {
      "cell_type": "markdown",
      "metadata": {
        "id": "UJS3ScGZrpDa"
      },
      "source": [
        "Vamos plotar nova matriz de correlação para verificar se a limpeza afetou as correlações das variáveis."
      ]
    },
    {
      "cell_type": "code",
      "metadata": {
        "colab": {
          "base_uri": "https://localhost:8080/",
          "height": 1000
        },
        "id": "EjnT2Lwlq4W7",
        "outputId": "aceb81de-9ddc-4fc5-941c-2bfc0782a497"
      },
      "source": [
        "# criando nova matriz de correlação\n",
        "corr_clean = df_clean.corr()\n",
        "mask = np.triu(np.ones_like(corr_clean, dtype=bool))\n",
        "plt.figure(figsize=(15,15))\n",
        "sns.heatmap(corr_clean, mask=mask, fmt='.0%', annot=True)\n",
        "plt.tight_layout()"
      ],
      "execution_count": null,
      "outputs": [
        {
          "output_type": "display_data",
          "data": {
            "image/png": "[encoded data removed]",
            "text/plain": [
              "<Figure size 1080x1080 with 2 Axes>"
            ]
          },
          "metadata": {
            "tags": [],
            "needs_background": "light"
          }
        }
      ]
    },
    {
      "cell_type": "markdown",
      "metadata": {
        "id": "0ZxC41gLr3JX"
      },
      "source": [
        "É possível perceber um pequeno aumento na correlação da vaiável alvo com as variáveis `PAY_0` a `PAY_6`. "
      ]
    },
    {
      "cell_type": "markdown",
      "metadata": {
        "id": "x4BYTTfcuwon"
      },
      "source": [
        "### Codificação das variáveis categóricas\n",
        "\n",
        "Faremos a transformação das variáveis categóricas múltiplas `EDUCATION`, `MARRIAGE` e `PAY_0` a `PAY_6` com `get_dummies`."
      ]
    },
    {
      "cell_type": "code",
      "metadata": {
        "colab": {
          "base_uri": "https://localhost:8080/",
          "height": 224
        },
        "id": "AHKA12dqyegN",
        "outputId": "4a03c7b1-3111-4a1f-c3ac-9aad01e6a3cb"
      },
      "source": [
        "# criando uma cópia de df_clean para realizar codificações\n",
        "df_prep = df_clean.copy()\n",
        "\n",
        "# gerando valores binários com get_dummies\n",
        "df_prep = pd.get_dummies(df_prep, columns=['EDUCATION', 'MARRIAGE', 'PAY_0', 'PAY_2', 'PAY_3', 'PAY_4', 'PAY_5', 'PAY_6'], drop_first=True)\n",
        "\n",
        "# verificando a aparencia após codificação\n",
        "df_prep.head()"
      ],
      "execution_count": null,
      "outputs": [
        {
          "output_type": "execute_result",
          "data": {
            "text/html": [
              "<div>\n",
              "<style scoped>\n",
              "    .dataframe tbody tr th:only-of-type {\n",
              "        vertical-align: middle;\n",
              "    }\n",
              "\n",
              "    .dataframe tbody tr th {\n",
              "        vertical-align: top;\n",
              "    }\n",
              "\n",
              "    .dataframe thead th {\n",
              "        text-align: right;\n",
              "    }\n",
              "</style>\n",
              "<table border=\"1\" class=\"dataframe\">\n",
              "  <thead>\n",
              "    <tr style=\"text-align: right;\">\n",
              "      <th></th>\n",
              "      <th>LIMIT_BAL</th>\n",
              "      <th>SEX</th>\n",
              "      <th>AGE</th>\n",
              "      <th>BILL_AMT1</th>\n",
              "      <th>BILL_AMT2</th>\n",
              "      <th>BILL_AMT3</th>\n",
              "      <th>BILL_AMT4</th>\n",
              "      <th>BILL_AMT5</th>\n",
              "      <th>BILL_AMT6</th>\n",
              "      <th>PAY_AMT1</th>\n",
              "      <th>PAY_AMT2</th>\n",
              "      <th>PAY_AMT3</th>\n",
              "      <th>PAY_AMT4</th>\n",
              "      <th>PAY_AMT5</th>\n",
              "      <th>PAY_AMT6</th>\n",
              "      <th>default.payment.next.month</th>\n",
              "      <th>EDUCATION_2</th>\n",
              "      <th>EDUCATION_3</th>\n",
              "      <th>EDUCATION_4</th>\n",
              "      <th>MARRIAGE_2</th>\n",
              "      <th>MARRIAGE_3</th>\n",
              "      <th>PAY_0_1</th>\n",
              "      <th>PAY_0_2</th>\n",
              "      <th>PAY_0_3</th>\n",
              "      <th>PAY_0_4</th>\n",
              "      <th>PAY_0_5</th>\n",
              "      <th>PAY_0_6</th>\n",
              "      <th>PAY_0_7</th>\n",
              "      <th>PAY_0_8</th>\n",
              "      <th>PAY_2_1</th>\n",
              "      <th>PAY_2_2</th>\n",
              "      <th>PAY_2_3</th>\n",
              "      <th>PAY_2_4</th>\n",
              "      <th>PAY_2_5</th>\n",
              "      <th>PAY_2_6</th>\n",
              "      <th>PAY_2_7</th>\n",
              "      <th>PAY_2_8</th>\n",
              "      <th>PAY_3_1</th>\n",
              "      <th>PAY_3_2</th>\n",
              "      <th>PAY_3_3</th>\n",
              "      <th>PAY_3_4</th>\n",
              "      <th>PAY_3_5</th>\n",
              "      <th>PAY_3_6</th>\n",
              "      <th>PAY_3_7</th>\n",
              "      <th>PAY_3_8</th>\n",
              "      <th>PAY_4_1</th>\n",
              "      <th>PAY_4_2</th>\n",
              "      <th>PAY_4_3</th>\n",
              "      <th>PAY_4_4</th>\n",
              "      <th>PAY_4_5</th>\n",
              "      <th>PAY_4_6</th>\n",
              "      <th>PAY_4_7</th>\n",
              "      <th>PAY_4_8</th>\n",
              "      <th>PAY_5_2</th>\n",
              "      <th>PAY_5_3</th>\n",
              "      <th>PAY_5_4</th>\n",
              "      <th>PAY_5_5</th>\n",
              "      <th>PAY_5_6</th>\n",
              "      <th>PAY_5_7</th>\n",
              "      <th>PAY_5_8</th>\n",
              "      <th>PAY_6_2</th>\n",
              "      <th>PAY_6_3</th>\n",
              "      <th>PAY_6_4</th>\n",
              "      <th>PAY_6_5</th>\n",
              "      <th>PAY_6_6</th>\n",
              "      <th>PAY_6_7</th>\n",
              "      <th>PAY_6_8</th>\n",
              "    </tr>\n",
              "  </thead>\n",
              "  <tbody>\n",
              "    <tr>\n",
              "      <th>0</th>\n",
              "      <td>20000.0</td>\n",
              "      <td>2</td>\n",
              "      <td>24</td>\n",
              "      <td>3913.0</td>\n",
              "      <td>3102.0</td>\n",
              "      <td>689.0</td>\n",
              "      <td>0.0</td>\n",
              "      <td>0.0</td>\n",
              "      <td>0.0</td>\n",
              "      <td>0.0</td>\n",
              "      <td>689.0</td>\n",
              "      <td>0.0</td>\n",
              "      <td>0.0</td>\n",
              "      <td>0.0</td>\n",
              "      <td>0.0</td>\n",
              "      <td>1</td>\n",
              "      <td>1</td>\n",
              "      <td>0</td>\n",
              "      <td>0</td>\n",
              "      <td>0</td>\n",
              "      <td>0</td>\n",
              "      <td>0</td>\n",
              "      <td>1</td>\n",
              "      <td>0</td>\n",
              "      <td>0</td>\n",
              "      <td>0</td>\n",
              "      <td>0</td>\n",
              "      <td>0</td>\n",
              "      <td>0</td>\n",
              "      <td>0</td>\n",
              "      <td>1</td>\n",
              "      <td>0</td>\n",
              "      <td>0</td>\n",
              "      <td>0</td>\n",
              "      <td>0</td>\n",
              "      <td>0</td>\n",
              "      <td>0</td>\n",
              "      <td>0</td>\n",
              "      <td>0</td>\n",
              "      <td>0</td>\n",
              "      <td>0</td>\n",
              "      <td>0</td>\n",
              "      <td>0</td>\n",
              "      <td>0</td>\n",
              "      <td>0</td>\n",
              "      <td>0</td>\n",
              "      <td>0</td>\n",
              "      <td>0</td>\n",
              "      <td>0</td>\n",
              "      <td>0</td>\n",
              "      <td>0</td>\n",
              "      <td>0</td>\n",
              "      <td>0</td>\n",
              "      <td>0</td>\n",
              "      <td>0</td>\n",
              "      <td>0</td>\n",
              "      <td>0</td>\n",
              "      <td>0</td>\n",
              "      <td>0</td>\n",
              "      <td>0</td>\n",
              "      <td>0</td>\n",
              "      <td>0</td>\n",
              "      <td>0</td>\n",
              "      <td>0</td>\n",
              "      <td>0</td>\n",
              "      <td>0</td>\n",
              "      <td>0</td>\n",
              "    </tr>\n",
              "    <tr>\n",
              "      <th>1</th>\n",
              "      <td>120000.0</td>\n",
              "      <td>2</td>\n",
              "      <td>26</td>\n",
              "      <td>2682.0</td>\n",
              "      <td>1725.0</td>\n",
              "      <td>2682.0</td>\n",
              "      <td>3272.0</td>\n",
              "      <td>3455.0</td>\n",
              "      <td>3261.0</td>\n",
              "      <td>0.0</td>\n",
              "      <td>1000.0</td>\n",
              "      <td>1000.0</td>\n",
              "      <td>1000.0</td>\n",
              "      <td>0.0</td>\n",
              "      <td>2000.0</td>\n",
              "      <td>1</td>\n",
              "      <td>1</td>\n",
              "      <td>0</td>\n",
              "      <td>0</td>\n",
              "      <td>1</td>\n",
              "      <td>0</td>\n",
              "      <td>0</td>\n",
              "      <td>0</td>\n",
              "      <td>0</td>\n",
              "      <td>0</td>\n",
              "      <td>0</td>\n",
              "      <td>0</td>\n",
              "      <td>0</td>\n",
              "      <td>0</td>\n",
              "      <td>0</td>\n",
              "      <td>1</td>\n",
              "      <td>0</td>\n",
              "      <td>0</td>\n",
              "      <td>0</td>\n",
              "      <td>0</td>\n",
              "      <td>0</td>\n",
              "      <td>0</td>\n",
              "      <td>0</td>\n",
              "      <td>0</td>\n",
              "      <td>0</td>\n",
              "      <td>0</td>\n",
              "      <td>0</td>\n",
              "      <td>0</td>\n",
              "      <td>0</td>\n",
              "      <td>0</td>\n",
              "      <td>0</td>\n",
              "      <td>0</td>\n",
              "      <td>0</td>\n",
              "      <td>0</td>\n",
              "      <td>0</td>\n",
              "      <td>0</td>\n",
              "      <td>0</td>\n",
              "      <td>0</td>\n",
              "      <td>0</td>\n",
              "      <td>0</td>\n",
              "      <td>0</td>\n",
              "      <td>0</td>\n",
              "      <td>0</td>\n",
              "      <td>0</td>\n",
              "      <td>0</td>\n",
              "      <td>1</td>\n",
              "      <td>0</td>\n",
              "      <td>0</td>\n",
              "      <td>0</td>\n",
              "      <td>0</td>\n",
              "      <td>0</td>\n",
              "      <td>0</td>\n",
              "    </tr>\n",
              "    <tr>\n",
              "      <th>2</th>\n",
              "      <td>90000.0</td>\n",
              "      <td>2</td>\n",
              "      <td>34</td>\n",
              "      <td>29239.0</td>\n",
              "      <td>14027.0</td>\n",
              "      <td>13559.0</td>\n",
              "      <td>14331.0</td>\n",
              "      <td>14948.0</td>\n",
              "      <td>15549.0</td>\n",
              "      <td>1518.0</td>\n",
              "      <td>1500.0</td>\n",
              "      <td>1000.0</td>\n",
              "      <td>1000.0</td>\n",
              "      <td>1000.0</td>\n",
              "      <td>5000.0</td>\n",
              "      <td>0</td>\n",
              "      <td>1</td>\n",
              "      <td>0</td>\n",
              "      <td>0</td>\n",
              "      <td>1</td>\n",
              "      <td>0</td>\n",
              "      <td>0</td>\n",
              "      <td>0</td>\n",
              "      <td>0</td>\n",
              "      <td>0</td>\n",
              "      <td>0</td>\n",
              "      <td>0</td>\n",
              "      <td>0</td>\n",
              "      <td>0</td>\n",
              "      <td>0</td>\n",
              "      <td>0</td>\n",
              "      <td>0</td>\n",
              "      <td>0</td>\n",
              "      <td>0</td>\n",
              "      <td>0</td>\n",
              "      <td>0</td>\n",
              "      <td>0</td>\n",
              "      <td>0</td>\n",
              "      <td>0</td>\n",
              "      <td>0</td>\n",
              "      <td>0</td>\n",
              "      <td>0</td>\n",
              "      <td>0</td>\n",
              "      <td>0</td>\n",
              "      <td>0</td>\n",
              "      <td>0</td>\n",
              "      <td>0</td>\n",
              "      <td>0</td>\n",
              "      <td>0</td>\n",
              "      <td>0</td>\n",
              "      <td>0</td>\n",
              "      <td>0</td>\n",
              "      <td>0</td>\n",
              "      <td>0</td>\n",
              "      <td>0</td>\n",
              "      <td>0</td>\n",
              "      <td>0</td>\n",
              "      <td>0</td>\n",
              "      <td>0</td>\n",
              "      <td>0</td>\n",
              "      <td>0</td>\n",
              "      <td>0</td>\n",
              "      <td>0</td>\n",
              "      <td>0</td>\n",
              "      <td>0</td>\n",
              "      <td>0</td>\n",
              "      <td>0</td>\n",
              "    </tr>\n",
              "    <tr>\n",
              "      <th>3</th>\n",
              "      <td>50000.0</td>\n",
              "      <td>2</td>\n",
              "      <td>37</td>\n",
              "      <td>46990.0</td>\n",
              "      <td>48233.0</td>\n",
              "      <td>49291.0</td>\n",
              "      <td>28314.0</td>\n",
              "      <td>28959.0</td>\n",
              "      <td>29547.0</td>\n",
              "      <td>2000.0</td>\n",
              "      <td>2019.0</td>\n",
              "      <td>1200.0</td>\n",
              "      <td>1100.0</td>\n",
              "      <td>1069.0</td>\n",
              "      <td>1000.0</td>\n",
              "      <td>0</td>\n",
              "      <td>1</td>\n",
              "      <td>0</td>\n",
              "      <td>0</td>\n",
              "      <td>0</td>\n",
              "      <td>0</td>\n",
              "      <td>0</td>\n",
              "      <td>0</td>\n",
              "      <td>0</td>\n",
              "      <td>0</td>\n",
              "      <td>0</td>\n",
              "      <td>0</td>\n",
              "      <td>0</td>\n",
              "      <td>0</td>\n",
              "      <td>0</td>\n",
              "      <td>0</td>\n",
              "      <td>0</td>\n",
              "      <td>0</td>\n",
              "      <td>0</td>\n",
              "      <td>0</td>\n",
              "      <td>0</td>\n",
              "      <td>0</td>\n",
              "      <td>0</td>\n",
              "      <td>0</td>\n",
              "      <td>0</td>\n",
              "      <td>0</td>\n",
              "      <td>0</td>\n",
              "      <td>0</td>\n",
              "      <td>0</td>\n",
              "      <td>0</td>\n",
              "      <td>0</td>\n",
              "      <td>0</td>\n",
              "      <td>0</td>\n",
              "      <td>0</td>\n",
              "      <td>0</td>\n",
              "      <td>0</td>\n",
              "      <td>0</td>\n",
              "      <td>0</td>\n",
              "      <td>0</td>\n",
              "      <td>0</td>\n",
              "      <td>0</td>\n",
              "      <td>0</td>\n",
              "      <td>0</td>\n",
              "      <td>0</td>\n",
              "      <td>0</td>\n",
              "      <td>0</td>\n",
              "      <td>0</td>\n",
              "      <td>0</td>\n",
              "      <td>0</td>\n",
              "      <td>0</td>\n",
              "      <td>0</td>\n",
              "      <td>0</td>\n",
              "    </tr>\n",
              "    <tr>\n",
              "      <th>4</th>\n",
              "      <td>50000.0</td>\n",
              "      <td>1</td>\n",
              "      <td>57</td>\n",
              "      <td>8617.0</td>\n",
              "      <td>5670.0</td>\n",
              "      <td>35835.0</td>\n",
              "      <td>20940.0</td>\n",
              "      <td>19146.0</td>\n",
              "      <td>19131.0</td>\n",
              "      <td>2000.0</td>\n",
              "      <td>36681.0</td>\n",
              "      <td>10000.0</td>\n",
              "      <td>9000.0</td>\n",
              "      <td>689.0</td>\n",
              "      <td>679.0</td>\n",
              "      <td>0</td>\n",
              "      <td>1</td>\n",
              "      <td>0</td>\n",
              "      <td>0</td>\n",
              "      <td>0</td>\n",
              "      <td>0</td>\n",
              "      <td>0</td>\n",
              "      <td>0</td>\n",
              "      <td>0</td>\n",
              "      <td>0</td>\n",
              "      <td>0</td>\n",
              "      <td>0</td>\n",
              "      <td>0</td>\n",
              "      <td>0</td>\n",
              "      <td>0</td>\n",
              "      <td>0</td>\n",
              "      <td>0</td>\n",
              "      <td>0</td>\n",
              "      <td>0</td>\n",
              "      <td>0</td>\n",
              "      <td>0</td>\n",
              "      <td>0</td>\n",
              "      <td>0</td>\n",
              "      <td>0</td>\n",
              "      <td>0</td>\n",
              "      <td>0</td>\n",
              "      <td>0</td>\n",
              "      <td>0</td>\n",
              "      <td>0</td>\n",
              "      <td>0</td>\n",
              "      <td>0</td>\n",
              "      <td>0</td>\n",
              "      <td>0</td>\n",
              "      <td>0</td>\n",
              "      <td>0</td>\n",
              "      <td>0</td>\n",
              "      <td>0</td>\n",
              "      <td>0</td>\n",
              "      <td>0</td>\n",
              "      <td>0</td>\n",
              "      <td>0</td>\n",
              "      <td>0</td>\n",
              "      <td>0</td>\n",
              "      <td>0</td>\n",
              "      <td>0</td>\n",
              "      <td>0</td>\n",
              "      <td>0</td>\n",
              "      <td>0</td>\n",
              "      <td>0</td>\n",
              "      <td>0</td>\n",
              "      <td>0</td>\n",
              "      <td>0</td>\n",
              "    </tr>\n",
              "  </tbody>\n",
              "</table>\n",
              "</div>"
            ],
            "text/plain": [
              "   LIMIT_BAL  SEX  AGE  BILL_AMT1  ...  PAY_6_5  PAY_6_6  PAY_6_7  PAY_6_8\n",
              "0    20000.0    2   24     3913.0  ...        0        0        0        0\n",
              "1   120000.0    2   26     2682.0  ...        0        0        0        0\n",
              "2    90000.0    2   34    29239.0  ...        0        0        0        0\n",
              "3    50000.0    2   37    46990.0  ...        0        0        0        0\n",
              "4    50000.0    1   57     8617.0  ...        0        0        0        0\n",
              "\n",
              "[5 rows x 67 columns]"
            ]
          },
          "metadata": {
            "tags": []
          },
          "execution_count": 75
        }
      ]
    },
    {
      "cell_type": "markdown",
      "metadata": {
        "id": "X1dJVucqw-tl"
      },
      "source": [
        "Agora nosso dataset está preparado para a próxima etapa: modelagem. "
      ]
    },
    {
      "cell_type": "markdown",
      "metadata": {
        "id": "qQzQWA6wmZfN"
      },
      "source": [
        "### Divisão do dataset\n",
        "\n",
        "Vamos dividir o dataset entre treino e teste. Os dados de teste serão usados somente ao final."
      ]
    },
    {
      "cell_type": "code",
      "metadata": {
        "id": "PNDwUTDksx-T",
        "colab": {
          "base_uri": "https://localhost:8080/"
        },
        "outputId": "570393fa-c41c-4a4e-deb4-29d8586dcad9"
      },
      "source": [
        "# separando em feature matrix (X) e target vector (y)\n",
        "X = df_prep.drop('default.payment.next.month', axis=1)\n",
        "y = df_prep['default.payment.next.month']\n",
        "\n",
        "# dividindo entre treino e teste\n",
        "from sklearn.model_selection import train_test_split\n",
        "X_train, X_test, y_train, y_test = train_test_split(X, y, shuffle=True, stratify=y, random_state=1)\n",
        "\n",
        "# verificando o formato dos dados após divisão\n",
        "print('Formato de X_train:', X_train.shape)\n",
        "print('Formato de y_train:', y_train.shape)\n",
        "print('Formato de X_test:', X_test.shape)\n",
        "print('Formato de y_test:', y_test.shape)"
      ],
      "execution_count": null,
      "outputs": [
        {
          "output_type": "stream",
          "text": [
            "Formato de X_train: (22500, 66)\n",
            "Formato de y_train: (22500,)\n",
            "Formato de X_test: (7500, 66)\n",
            "Formato de y_test: (7500,)\n"
          ],
          "name": "stdout"
        }
      ]
    },
    {
      "cell_type": "markdown",
      "metadata": {
        "id": "-cnZNcZBv4OA"
      },
      "source": [
        "## Modelos de Machine Learning\n",
        "\n",
        "Para escolher o modelo final, iremos realizar alguns testes.\n",
        "\n",
        "Como premissa de projeto, iremos avaliar as métricas **recall** e **F-1 score**. Vamos entender o porquê da escolha dessas métricas.\n",
        "\n",
        "O objetivo é prever o *default*, ou seja, quando um cliente ficará inadimplente. Para isso, queremos que o número de *true positives* (verdadeiro=1, previsto=1) seja o mais alto possível e o número de *false negatives* (verdadeiro=1, previsto=0) seja o menor possível.\n",
        "\n",
        "Por outro lado, se o modelo prever alguns *false positives* (verdadeiro=0, previsto=1), não há tanto problema pois esse erro não custará tão caro para a instituição financeira. Logo, a acurácia do modelo não é nossa métrica de maior preocupação para este projeto."
      ]
    },
    {
      "cell_type": "markdown",
      "metadata": {
        "id": "LcxWnUbx1goY"
      },
      "source": [
        "### Padronização e Balanceamento\n",
        "\n",
        "Primeiramente vamos treinar um modelo de base com os dados desbalanceados e padronizados com StandardScaler para obtermos o desempenho.\n",
        "\n",
        "Em seguida, faremos testes com 2 tipos de padronização (`StandardScaler` e `MinMaxScaler`) e 2 tipos de balanceamento (`RandomUnderSampler` e `SMOTE`) afim de escolhermos a melhor dupla de padronização e balanceamento.\n",
        "\n",
        "O modelo escolhido para realizar esses testes foi **Logistic Regression**."
      ]
    },
    {
      "cell_type": "markdown",
      "metadata": {
        "id": "WSVFGSFIpzny"
      },
      "source": [
        "**Baseline - StandardScaler + dados desbalanceados**"
      ]
    },
    {
      "cell_type": "code",
      "metadata": {
        "colab": {
          "base_uri": "https://localhost:8080/"
        },
        "id": "jw7oxxYH3laU",
        "outputId": "1b1f2172-4cf8-4a43-9ce0-e24bd3eece1b"
      },
      "source": [
        "# padronizando com StandardScaler\n",
        "from sklearn.preprocessing import StandardScaler\n",
        "scaler = StandardScaler().fit(X_train)\n",
        "X_train_ss = scaler.transform(X_train)\n",
        "\n",
        "# instanciando o modelo do baseline\n",
        "from sklearn.linear_model import LogisticRegression\n",
        "bl_model = LogisticRegression(random_state=1, max_iter=500)\n",
        "\n",
        "# cross-validation para baseline\n",
        "from sklearn.model_selection import cross_val_score\n",
        "score_r0 = cross_val_score(bl_model, X_train_ss, y_train, cv=5, scoring='recall')\n",
        "print(\"Baseline:\\nRecall: %0.2f (+/-%0.2f)\" %(score_r0.mean(), score_r0.std()*2))\n",
        "score_f0 = cross_val_score(bl_model, X_train_ss, y_train, cv=5, scoring='f1')\n",
        "print(\"F-1 score: %0.2f (+/-%0.2f)\" %(score_f0.mean(), score_f0.std()*2))"
      ],
      "execution_count": null,
      "outputs": [
        {
          "output_type": "stream",
          "text": [
            "Baseline:\n",
            "Recall: 0.35 (+/-0.03)\n",
            "F-1 score: 0.47 (+/-0.03)\n"
          ],
          "name": "stdout"
        }
      ]
    },
    {
      "cell_type": "markdown",
      "metadata": {
        "id": "bk8LFmVF0eo1"
      },
      "source": [
        "**Teste 1 - StandardScaler + RandomUnderSampler**"
      ]
    },
    {
      "cell_type": "code",
      "metadata": {
        "colab": {
          "base_uri": "https://localhost:8080/"
        },
        "id": "jOl2kqkCn580",
        "outputId": "d7baf10b-9e2d-4ea9-fd15-7463a2f1ee27"
      },
      "source": [
        "# balanceando os dados com RandomUnderSampler\n",
        "from imblearn.under_sampling import RandomUnderSampler\n",
        "X_train_1, y_train_1 = RandomUnderSampler().fit_sample(X_train_ss, y_train)\n",
        "\n",
        "# cross-validation para teste 1\n",
        "score_r1 = cross_val_score(bl_model, X_train_1, y_train_1, cv=5, scoring='recall')\n",
        "print(\"Teste 1: StandardScaler + RandomUnderSampler\\nRecall: %0.2f (+/-%0.2f)\" %(score_r1.mean(), score_r1.std()*2))\n",
        "score_f1 = cross_val_score(bl_model, X_train_1, y_train_1, cv=5, scoring='f1')\n",
        "print(\"F-1 score: %0.2f (+/-%0.2f)\" %(score_f1.mean(), score_f1.std()*2))"
      ],
      "execution_count": null,
      "outputs": [
        {
          "output_type": "stream",
          "text": [
            "Teste 1: StandardScaler + RandomUnderSampler\n",
            "Recall: 0.56 (+/-0.05)\n",
            "F-1 score: 0.66 (+/-0.04)\n"
          ],
          "name": "stdout"
        }
      ]
    },
    {
      "cell_type": "markdown",
      "metadata": {
        "id": "kKnnYZ_C1bx5"
      },
      "source": [
        "**Teste 2 - StandardScaler + SMOTE**"
      ]
    },
    {
      "cell_type": "code",
      "metadata": {
        "colab": {
          "base_uri": "https://localhost:8080/"
        },
        "id": "nh3jvvadknfT",
        "outputId": "cca7c475-a1ca-4a1d-87e4-3be0ff1c409b"
      },
      "source": [
        "# balanceando com SMOTE\n",
        "from imblearn.over_sampling import SMOTE\n",
        "X_train_2, y_train_2 = SMOTE().fit_sample(X_train_ss,y_train)\n",
        "\n",
        "#cross-validation para teste 2\n",
        "score_r2 = cross_val_score(bl_model, X_train_2, y_train_2, cv=5, scoring='recall')\n",
        "print(\"Teste 2: StandardScaler + SMOTE\\nRecall: %0.2f (+/-%0.2f)\" %(score_r2.mean(), score_r2.std()*2))\n",
        "score_f2 = cross_val_score(bl_model, X_train_2, y_train_2, cv=5, scoring='f1')\n",
        "print(\"F-1 score: %0.2f (+/-%0.2f)\" %(score_f2.mean(), score_f2.std()*2))"
      ],
      "execution_count": null,
      "outputs": [
        {
          "output_type": "stream",
          "text": [
            "Teste 2: StandardScaler + SMOTE\n",
            "Recall: 0.56 (+/-0.01)\n",
            "F-1 score: 0.65 (+/-0.01)\n"
          ],
          "name": "stdout"
        }
      ]
    },
    {
      "cell_type": "markdown",
      "metadata": {
        "id": "MBx3_wEq1m3a"
      },
      "source": [
        "**Teste 3 - MinMaxScaler + RandomUnderSampler**"
      ]
    },
    {
      "cell_type": "code",
      "metadata": {
        "colab": {
          "base_uri": "https://localhost:8080/"
        },
        "id": "67RoaTo2v-GO",
        "outputId": "4e70f5c1-db08-4537-9100-bfd7d5308c83"
      },
      "source": [
        "# padronizando com MinMaxScaler\n",
        "from sklearn.preprocessing import MinMaxScaler\n",
        "minmax = MinMaxScaler().fit(X_train)\n",
        "X_train_mm = minmax.transform(X_train)\n",
        "\n",
        "# balanceando com RandomUnderSampler\n",
        "X_train_3, y_train_3 = RandomUnderSampler().fit_sample(X_train_mm, y_train)\n",
        "\n",
        "#cross-validation para teste 3\n",
        "score_r3 = cross_val_score(bl_model, X_train_3, y_train_3, cv=5, scoring='recall')\n",
        "print(\"Teste 3: MinMaxScaler + RandomUnderSampler\\nRecall: %0.2f (+/-%0.2f)\" %(score_r3.mean(), score_r3.std()*2))\n",
        "score_f3 = cross_val_score(bl_model, X_train_3, y_train_3, cv=5, scoring='f1')\n",
        "print(\"F-1 score: %0.2f (+/-%0.2f)\" %(score_f3.mean(), score_f3.std()*2))"
      ],
      "execution_count": null,
      "outputs": [
        {
          "output_type": "stream",
          "text": [
            "Teste 3: MinMaxScaler + RandomUnderSampler\n",
            "Recall: 0.56 (+/-0.04)\n",
            "F-1 score: 0.65 (+/-0.03)\n"
          ],
          "name": "stdout"
        }
      ]
    },
    {
      "cell_type": "markdown",
      "metadata": {
        "id": "glXUTw6G2KLe"
      },
      "source": [
        "**Teste 4 - MinMaxScaler + SMOTE**"
      ]
    },
    {
      "cell_type": "code",
      "metadata": {
        "colab": {
          "base_uri": "https://localhost:8080/"
        },
        "id": "qRglys51w34t",
        "outputId": "227593f2-9be5-4b12-fe7c-9242218875fa"
      },
      "source": [
        "# balanceando com SMOTE\n",
        "X_train_4, y_train_4 = SMOTE().fit_sample(X_train_mm,y_train)\n",
        "\n",
        "# cross-validation para teste 4\n",
        "score_r4 = cross_val_score(bl_model, X_train_4, y_train_4, cv=5, scoring='recall')\n",
        "print(\"Teste 4: MinMaxScaler + SMOTE\\nRecall: %0.2f (+/-%0.2f)\" %(score_r4.mean(), score_r4.std()*2))\n",
        "score_f4 = cross_val_score(bl_model, X_train_4, y_train_4, cv=5, scoring='f1')\n",
        "print(\"F-1 score: %0.2f (+/-%0.2f)\" %(score_f4.mean(), score_f4.std()*2))"
      ],
      "execution_count": null,
      "outputs": [
        {
          "output_type": "stream",
          "text": [
            "Teste 4: MinMaxScaler + SMOTE\n",
            "Recall: 0.56 (+/-0.02)\n",
            "F-1 score: 0.65 (+/-0.01)\n"
          ],
          "name": "stdout"
        }
      ]
    },
    {
      "cell_type": "markdown",
      "metadata": {
        "id": "kKtnd6Lo5bf2"
      },
      "source": [
        "Conforme testamos acima, houve aumento significativo do baseline para o primeiro teste. Porém entre os testes 1 a 4, não houve diferença significativa.\n",
        "\n",
        "De toda forma, a melhor combinação foi **o teste 4**: padronização com o `MinMaxScaler` e o balanceamento com `SMOTE`.\n",
        "\n",
        "Vamos plotar o novo gráfico de barras para ver o balanceamento dos dados, assim como o tamanho do dataset."
      ]
    },
    {
      "cell_type": "code",
      "metadata": {
        "id": "JHi4ArFR6hMn",
        "colab": {
          "base_uri": "https://localhost:8080/",
          "height": 348
        },
        "outputId": "0203e85d-76b8-4081-b655-2d08f98e189c"
      },
      "source": [
        "# atribuindo os dados de treino final\n",
        "X_train_final = X_train_4\n",
        "y_train_final = y_train_4\n",
        "\n",
        "# padronizando os dados de teste\n",
        "X_test = minmax.transform(X_test)\n",
        "\n",
        "# ver novo balanceamento\n",
        "print(pd.Series(y_train_final).value_counts())\n",
        "\n",
        "# imprimindo novo countplot\n",
        "fig, ax = plt.subplots()\n",
        "sns.countplot(y_train_final)\n",
        "ax.set_title('Distribuição após balanceamento com SMOTE')\n",
        "ax.set_xlabel('default')\n",
        "plt.tight_layout()"
      ],
      "execution_count": null,
      "outputs": [
        {
          "output_type": "stream",
          "text": [
            "1    17523\n",
            "0    17523\n",
            "dtype: int64\n"
          ],
          "name": "stdout"
        },
        {
          "output_type": "display_data",
          "data": {
            "image/png": "[encoded data removed]",
            "text/plain": [
              "<Figure size 432x288 with 1 Axes>"
            ]
          },
          "metadata": {
            "tags": [],
            "needs_background": "light"
          }
        }
      ]
    },
    {
      "cell_type": "code",
      "metadata": {
        "colab": {
          "base_uri": "https://localhost:8080/"
        },
        "id": "_mIh-5EFaaLa",
        "outputId": "121de3e0-6462-4b04-83d0-74529e63e641"
      },
      "source": [
        "# verificando o formato dos dados finais\n",
        "print('Formato de X_train_final:', X_train_final.shape)\n",
        "print('Formato de y_train_final:', y_train_final.shape)\n",
        "print('Formato de X_test:', X_test.shape)\n",
        "print('Formato de y_test:', y_test.shape)"
      ],
      "execution_count": null,
      "outputs": [
        {
          "output_type": "stream",
          "text": [
            "Formato de X_train_final: (35046, 66)\n",
            "Formato de y_train_final: (35046,)\n",
            "Formato de X_test: (7500, 66)\n",
            "Formato de y_test: (7500,)\n"
          ],
          "name": "stdout"
        }
      ]
    },
    {
      "cell_type": "markdown",
      "metadata": {
        "id": "BWjXdzFu7hXJ"
      },
      "source": [
        "### Escolha dos modelos"
      ]
    },
    {
      "cell_type": "code",
      "metadata": {
        "colab": {
          "base_uri": "https://localhost:8080/",
          "height": 235
        },
        "id": "N-4iL9GF7ngb",
        "outputId": "b4e7c015-6d6e-4270-bc60-32c5fb6782cf"
      },
      "source": [
        "# instanciando os modelos\n",
        "from sklearn.ensemble import RandomForestClassifier\n",
        "from sklearn.tree import DecisionTreeClassifier\n",
        "from sklearn.linear_model import SGDClassifier\n",
        "from sklearn.svm import SVC\n",
        "from xgboost import XGBClassifier\n",
        "import xgboost as xgb\n",
        "from lightgbm import LGBMClassifier\n",
        "\n",
        "rf = RandomForestClassifier()\n",
        "dt = DecisionTreeClassifier()\n",
        "sgdc = SGDClassifier()\n",
        "svc = SVC()\n",
        "xgb = XGBClassifier()\n",
        "lgbm = LGBMClassifier()\n",
        "\n",
        "# cross-validation para avaliar o recall e o f1\n",
        "model = []\n",
        "recall = []\n",
        "f1 = []\n",
        "\n",
        "\n",
        "for clf in (rf, dt, sgdc, svc, xgb, lgbm):\n",
        "  model.append(clf.__class__.__name__)\n",
        "  scores_r = cross_val_score(clf, X_train_final, y_train_final, cv=5, scoring='recall')\n",
        "  recall.append(scores_r.mean())\n",
        "  scores_f = cross_val_score(clf, X_train_final, y_train_final, cv=5, scoring='f1')\n",
        "  f1.append(scores_f.mean())\n",
        "  data = list(zip(recall, f1))\n",
        "\n",
        "pd.DataFrame(data=data, index=model, columns=['Recall', 'F-1 Score'])"
      ],
      "execution_count": null,
      "outputs": [
        {
          "output_type": "execute_result",
          "data": {
            "text/html": [
              "<div>\n",
              "<style scoped>\n",
              "    .dataframe tbody tr th:only-of-type {\n",
              "        vertical-align: middle;\n",
              "    }\n",
              "\n",
              "    .dataframe tbody tr th {\n",
              "        vertical-align: top;\n",
              "    }\n",
              "\n",
              "    .dataframe thead th {\n",
              "        text-align: right;\n",
              "    }\n",
              "</style>\n",
              "<table border=\"1\" class=\"dataframe\">\n",
              "  <thead>\n",
              "    <tr style=\"text-align: right;\">\n",
              "      <th></th>\n",
              "      <th>Recall</th>\n",
              "      <th>F-1 Score</th>\n",
              "    </tr>\n",
              "  </thead>\n",
              "  <tbody>\n",
              "    <tr>\n",
              "      <th>RandomForestClassifier</th>\n",
              "      <td>0.819668</td>\n",
              "      <td>0.834411</td>\n",
              "    </tr>\n",
              "    <tr>\n",
              "      <th>DecisionTreeClassifier</th>\n",
              "      <td>0.758833</td>\n",
              "      <td>0.746985</td>\n",
              "    </tr>\n",
              "    <tr>\n",
              "      <th>SGDClassifier</th>\n",
              "      <td>0.517891</td>\n",
              "      <td>0.624550</td>\n",
              "    </tr>\n",
              "    <tr>\n",
              "      <th>SVC</th>\n",
              "      <td>0.608857</td>\n",
              "      <td>0.674849</td>\n",
              "    </tr>\n",
              "    <tr>\n",
              "      <th>XGBClassifier</th>\n",
              "      <td>0.684875</td>\n",
              "      <td>0.746590</td>\n",
              "    </tr>\n",
              "    <tr>\n",
              "      <th>LGBMClassifier</th>\n",
              "      <td>0.770937</td>\n",
              "      <td>0.805364</td>\n",
              "    </tr>\n",
              "  </tbody>\n",
              "</table>\n",
              "</div>"
            ],
            "text/plain": [
              "                          Recall  F-1 Score\n",
              "RandomForestClassifier  0.819668   0.834411\n",
              "DecisionTreeClassifier  0.758833   0.746985\n",
              "SGDClassifier           0.517891   0.624550\n",
              "SVC                     0.608857   0.674849\n",
              "XGBClassifier           0.684875   0.746590\n",
              "LGBMClassifier          0.770937   0.805364"
            ]
          },
          "metadata": {
            "tags": []
          },
          "execution_count": 84
        }
      ]
    },
    {
      "cell_type": "markdown",
      "metadata": {
        "id": "wCvJQ4K55vAx"
      },
      "source": [
        "### Modelo 1 - Random Forest"
      ]
    },
    {
      "cell_type": "code",
      "metadata": {
        "colab": {
          "base_uri": "https://localhost:8080/",
          "height": 501
        },
        "id": "3zmRDc4f56ZU",
        "outputId": "b8a4b825-6360-4f43-ad64-580d90d829c1"
      },
      "source": [
        "# instanciando o modelo 1\n",
        "model_1 = SVC(random_state=1)\n",
        "\n",
        "# treinando o modelo 1\n",
        "model_1.fit(X_train_final, y_train_final)\n",
        "\n",
        "# fazendo previsões com dados de teste\n",
        "y_pred_1 = model_1.predict(X_test)\n",
        "\n",
        "from sklearn import metrics\n",
        "from sklearn.metrics import roc_auc_score, accuracy_score, f1_score, confusion_matrix, classification_report\n",
        "from scikitplot.metrics import plot_confusion_matrix, plot_roc\n",
        "\n",
        "# imprimindo relatório de classificação\n",
        "print(\"Relatório de classificação - modelo 1:\")\n",
        "print(classification_report(y_test, y_pred_1))\n",
        "\n",
        "# imprimir a área sob a curva\n",
        "print(\"AUC: {:.4f}\\n\".format(roc_auc_score(y_test, y_pred_1)))\n",
        "\n",
        "# plotando a matriz de confusão\n",
        "fig, ax = plt.subplots()\n",
        "sns.heatmap(confusion_matrix(y_test, y_pred_1, normalize='true'), annot=True, ax=ax)\n",
        "ax.set_title(\"Matriz de confusão - modelo 1\")\n",
        "ax.set_ylabel(\"Verdadeiro\")\n",
        "ax.set_xlabel(\"Previsto\")\n",
        "plt.tight_layout()"
      ],
      "execution_count": null,
      "outputs": [
        {
          "output_type": "stream",
          "text": [
            "Relatório de classificação - modelo 1:\n",
            "              precision    recall  f1-score   support\n",
            "\n",
            "           0       0.87      0.81      0.84      5841\n",
            "           1       0.46      0.58      0.52      1659\n",
            "\n",
            "    accuracy                           0.76      7500\n",
            "   macro avg       0.67      0.70      0.68      7500\n",
            "weighted avg       0.78      0.76      0.77      7500\n",
            "\n",
            "AUC: 0.6956\n",
            "\n"
          ],
          "name": "stdout"
        },
        {
          "output_type": "display_data",
          "data": {
            "image/png": "[encoded data removed]",
            "text/plain": [
              "<Figure size 432x288 with 2 Axes>"
            ]
          },
          "metadata": {
            "tags": [],
            "needs_background": "light"
          }
        }
      ]
    }
  ]
}